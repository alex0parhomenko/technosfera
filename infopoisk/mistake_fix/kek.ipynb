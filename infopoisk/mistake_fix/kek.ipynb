{
 "cells": [
  {
   "cell_type": "code",
   "execution_count": 48,
   "metadata": {
    "collapsed": true
   },
   "outputs": [],
   "source": [
    "import sklearn as sk\n",
    "import numpy as np\n",
    "import pandas as pd\n",
    "import time\n",
    "from sklearn.cross_validation import KFold\n",
    "from sklearn import tree\n",
    "from sklearn import ensemble\n",
    "from sklearn import datasets\n",
    "import theano.tensor as th\n",
    "from scipy import misc\n",
    "import copy\n",
    "from numpy.random import uniform\n",
    "from numpy.random import normal\n",
    "from sklearn.datasets import load_iris\n",
    "from sklearn.utils import shuffle\n",
    "from sklearn.metrics import accuracy_score\n",
    "from sklearn.metrics import mean_squared_error\n",
    "from sklearn.datasets import make_classification\n",
    "from math import copysign\n",
    "from numpy.random import normal\n",
    "from collections import Counter\n",
    "\n",
    "import matplotlib.pylab as plt\n",
    "%matplotlib inline"
   ]
  },
  {
   "cell_type": "code",
   "execution_count": 49,
   "metadata": {
    "collapsed": false
   },
   "outputs": [],
   "source": [
    "f = open('lenta_words.txt', 'r')"
   ]
  },
  {
   "cell_type": "code",
   "execution_count": 51,
   "metadata": {
    "collapsed": false
   },
   "outputs": [
    {
     "name": "stdout",
     "output_type": "stream",
     "text": [
      "463163\n"
     ]
    }
   ],
   "source": [
    "d = Counter()\n",
    "for num, line in enumerate(f):\n",
    "    line = line.strip()\n",
    "    d[line.decode('utf-8')] += 1\n",
    "\n",
    "print len(d.keys())"
   ]
  },
  {
   "cell_type": "code",
   "execution_count": 52,
   "metadata": {
    "collapsed": false
   },
   "outputs": [],
   "source": [
    "def lev(w1, w2):\n",
    "    n = len(w1) + 1\n",
    "    m = len(w2) + 1\n",
    "    a = np.zeros(shape = (len(w1) + 1, len(w2) + 1))\n",
    "    for i in range(n):\n",
    "        a[i][0] = i\n",
    "    for i in range(m):\n",
    "        a[0][i] = i\n",
    "    for i in range(1, n):\n",
    "        for j in range(1, m):\n",
    "            if (w1[i - 1] == w2[j - 1]):\n",
    "                a[i][j] = a[i - 1][j - 1]\n",
    "            else:\n",
    "                a[i][j] = min(a[i- 1][j], a[i][j - 1], a[i - 1][j - 1]) + 1\n",
    "    return a[n - 1][m - 1]"
   ]
  },
  {
   "cell_type": "code",
   "execution_count": 72,
   "metadata": {
    "collapsed": false
   },
   "outputs": [],
   "source": [
    "def get_nearest(word):\n",
    "    all_w = d.keys()\n",
    "    dist = []\n",
    "    for num, w in enumerate(all_w):\n",
    "        if (num % 100000 == 0):\n",
    "            print num\n",
    "        dist.append([lev(word, w), w])\n",
    "    dist = sorted(dist)\n",
    "    \n",
    "    best_cand = []\n",
    "    best_w = None\n",
    "    best_vis = 0\n",
    "    for i in range(len(dist)):\n",
    "        if (i == 0):\n",
    "            if (d[dist[i][1]] > best_vis):\n",
    "                best_w = dist[i][1]\n",
    "                best_vis = d[dist[i][1]]\n",
    "        elif (dist[i][0] == dist[i - 1][0]):\n",
    "            if (d[dist[i][1]] > best_vis):\n",
    "                best_w = dist[i][1]\n",
    "                best_vis = d[dist[i][1]]\n",
    "        else:\n",
    "            break\n",
    "\n",
    "    return best_w"
   ]
  },
  {
   "cell_type": "code",
   "execution_count": 73,
   "metadata": {
    "collapsed": false,
    "scrolled": true
   },
   "outputs": [
    {
     "name": "stdout",
     "output_type": "stream",
     "text": [
      "0\n",
      "100000\n",
      "200000\n",
      "300000\n",
      "400000\n",
      "путин\n"
     ]
    }
   ],
   "source": [
    "print get_nearest(u\"путн\")"
   ]
  },
  {
   "cell_type": "code",
   "execution_count": 84,
   "metadata": {
    "collapsed": false
   },
   "outputs": [
    {
     "name": "stdout",
     "output_type": "stream",
     "text": [
      "0\n",
      "100000\n",
      "200000\n",
      "300000\n",
      "400000\n",
      "оценил\n"
     ]
    }
   ],
   "source": [
    "print get_nearest(u\"оцинил\")"
   ]
  },
  {
   "cell_type": "code",
   "execution_count": 85,
   "metadata": {
    "collapsed": false
   },
   "outputs": [
    {
     "name": "stdout",
     "output_type": "stream",
     "text": [
      "0\n",
      "100000\n",
      "200000\n",
      "300000\n",
      "400000\n",
      "роботу\n"
     ]
    }
   ],
   "source": [
    "print get_nearest(u'роботу')"
   ]
  },
  {
   "cell_type": "code",
   "execution_count": 86,
   "metadata": {
    "collapsed": false
   },
   "outputs": [
    {
     "name": "stdout",
     "output_type": "stream",
     "text": [
      "0\n",
      "100000\n",
      "200000\n",
      "300000\n",
      "400000\n",
      "новых\n"
     ]
    }
   ],
   "source": [
    "print get_nearest(u'новвых')"
   ]
  },
  {
   "cell_type": "code",
   "execution_count": 87,
   "metadata": {
    "collapsed": false
   },
   "outputs": [
    {
     "name": "stdout",
     "output_type": "stream",
     "text": [
      "0\n",
      "100000\n",
      "200000\n",
      "300000\n",
      "400000\n",
      "самолета\n"
     ]
    }
   ],
   "source": [
    "print get_nearest(u'самалетав')"
   ]
  },
  {
   "cell_type": "code",
   "execution_count": 88,
   "metadata": {
    "collapsed": false
   },
   "outputs": [
    {
     "name": "stdout",
     "output_type": "stream",
     "text": [
      "0\n",
      "100000\n",
      "200000\n",
      "300000\n",
      "400000\n",
      "вертолетов\n"
     ]
    }
   ],
   "source": [
    "print get_nearest(u'виртолтов')"
   ]
  },
  {
   "cell_type": "code",
   "execution_count": 90,
   "metadata": {
    "collapsed": false
   },
   "outputs": [
    {
     "name": "stdout",
     "output_type": "stream",
     "text": [
      "0\n",
      "100000\n",
      "200000\n",
      "300000\n",
      "400000\n",
      "сирии\n"
     ]
    }
   ],
   "source": [
    "print get_nearest(u'сирийи')"
   ]
  },
  {
   "cell_type": "code",
   "execution_count": 89,
   "metadata": {
    "collapsed": false
   },
   "outputs": [
    {
     "name": "stdout",
     "output_type": "stream",
     "text": [
      "0\n",
      "100000\n",
      "200000\n",
      "300000\n",
      "400000\n",
      "в\n"
     ]
    }
   ],
   "source": [
    "print get_nearest(u'в')"
   ]
  },
  {
   "cell_type": "code",
   "execution_count": null,
   "metadata": {
    "collapsed": true
   },
   "outputs": [],
   "source": []
  },
  {
   "cell_type": "code",
   "execution_count": null,
   "metadata": {
    "collapsed": true
   },
   "outputs": [],
   "source": [
    "all_symbols = [u'а', u'б', u'в', u'г', u'д', u'е', u'ж', u'з', u'и', u'й', u'к',\\\n",
    "               u'л', u'м', u'н', u'о', u'п', u'р', u'с', u'т', u'у', u'ф',\\\n",
    "              u'х', u'ц', u'ч', u'ш', u'щ', u'ы', u'ъ', u'ь', u'э', u'ю', u'я']"
   ]
  },
  {
   "cell_type": "code",
   "execution_count": null,
   "metadata": {
    "collapsed": true
   },
   "outputs": [],
   "source": [
    "def gen_words(word):\n",
    "    arr = []\n",
    "    "
   ]
  }
 ],
 "metadata": {
  "kernelspec": {
   "display_name": "Python 2",
   "language": "python",
   "name": "python2"
  },
  "language_info": {
   "codemirror_mode": {
    "name": "ipython",
    "version": 2
   },
   "file_extension": ".py",
   "mimetype": "text/x-python",
   "name": "python",
   "nbconvert_exporter": "python",
   "pygments_lexer": "ipython2",
   "version": "2.7.6"
  }
 },
 "nbformat": 4,
 "nbformat_minor": 0
}
