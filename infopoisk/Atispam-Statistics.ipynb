{
 "cells": [
  {
   "cell_type": "markdown",
   "metadata": {},
   "source": [
    "** Описание **\n",
    "Построить графики распределения в спам и не спам множествах следующих признаков:\n",
    "\n",
    "•\tКоличество слов на странице\n",
    "•\tКоличество слов в заголовке страниц (слова в теге <html><head><title > Some text </title>)\n",
    "•\tСредняя длинна слова\n",
    "•\tКоличество слов в анкорах ссылок (<html><body><a> Some text </a>)\n",
    "\n"
   ]
  },
  {
   "cell_type": "code",
   "execution_count": 184,
   "metadata": {
    "collapsed": false
   },
   "outputs": [],
   "source": [
    "import sys\n",
    "import base64\n",
    "import random\n",
    "import chardet\n",
    "import codecs\n",
    "from re import sub\n",
    "\n",
    "from nltk.stem import SnowballStemmer\n",
    "from HTMLParser import HTMLParser\n",
    "\n",
    "stemmer = SnowballStemmer(\"russian\");"
   ]
  },
  {
   "cell_type": "markdown",
   "metadata": {},
   "source": [
    " ** HTML Parser **\n",
    "Тут мы можем распарсить страницу, выделить текст, заголовок, текст в ссылках документа"
   ]
  },
  {
   "cell_type": "code",
   "execution_count": 185,
   "metadata": {
    "collapsed": true
   },
   "outputs": [],
   "source": [
    "class SpamHTMLParser(HTMLParser):\n",
    "    def __init__(self):\n",
    "        HTMLParser.__init__(self)\n",
    "        self.__text = []\n",
    "        self.__titletext = []\n",
    "        self.__atext = []\n",
    "        self.title_tag = 0\n",
    "        self.a = 0\n",
    "\n",
    "    def handle_data(self, data):\n",
    "        text = data.strip()\n",
    "        if len(text) > 0:\n",
    "            text = sub('[ \\t\\r\\n]+', ' ', text)\n",
    "            self.__text.append(text + ' ')\n",
    "            if (self.title_tag == 1):\n",
    "                self.__titletext.append(text + ' ')\n",
    "            if (self.a == 1):\n",
    "                self.__atext.append(text + ' ')\n",
    "            \n",
    "\n",
    "    def handle_starttag(self, tag, attrs):\n",
    "        #print 'all g'\n",
    "        if tag == 'p':\n",
    "            self.__text.append('\\n\\n')\n",
    "        elif tag == 'br':\n",
    "            self.__text.append('\\n')\n",
    "        elif tag == 'title':\n",
    "            self.title_tag = 1\n",
    "        elif tag == 'a':\n",
    "            self.a = 1\n",
    "        \n",
    "            \n",
    "    def handle_endtag(self, tag):\n",
    "        if tag == 'title':\n",
    "            self.title_tag = 0\n",
    "        elif tag == 'a':\n",
    "            self.a = 0\n",
    "\n",
    "    def handle_startendtag(self, tag, attrs):\n",
    "        if tag == 'br':\n",
    "            self.__text.append('\\n\\n')\n",
    "\n",
    "\n",
    "    def text(self):\n",
    "        return ''.join(self.__text).strip()\n",
    "    \n",
    "    def titletext(self):\n",
    "        return ''.join(self.__titletext).strip()\n",
    "    \n",
    "    def atext(self):\n",
    "        return ''.join(self.__atext).strip()"
   ]
  },
  {
   "cell_type": "markdown",
   "metadata": {},
   "source": [
    "** Сбор статистики **\n",
    "Класс отвечает за сбор статистики"
   ]
  },
  {
   "cell_type": "code",
   "execution_count": 186,
   "metadata": {
    "collapsed": false
   },
   "outputs": [],
   "source": [
    "class Stat:\n",
    "    def __init__(self):\n",
    "            self.points = []\n",
    "            self.spam = []\n",
    "            self.notspam = []\n",
    "                            \n",
    "            \n",
    "class StatsCollector:\n",
    "    \n",
    "    \n",
    "    def __init__(self):\n",
    "        self.total_words = Stat();\n",
    "        self.header_words = Stat();\n",
    "        self.average_word_length = Stat();\n",
    "        self.links_words = Stat();\n",
    "        \n",
    "    def collect(self, mark, pageInb64, url):\n",
    "            \n",
    "            html = base64.b64decode(pageInb64).decode('utf-8')\n",
    "            parser = SpamHTMLParser()\n",
    "            parser.feed(html)\n",
    "\n",
    "            self.total_words.points.append(len(parser.text().split(' ')))\n",
    "            if (mark == 0):\n",
    "                self.total_words.notspam.append(len(parser.text().split(' ')))\n",
    "            elif (mark == 1):\n",
    "                self.total_words.spam.append(len(parser.text().split(' ')))\n",
    "            \n",
    "            self.header_words.points.append(len(parser.titletext().split(' ')))\n",
    "            if (mark == 0):\n",
    "                self.header_words.notspam.append(len(parser.titletext().split(' ')))\n",
    "            elif (mark == 1):\n",
    "                self.header_words.spam.append(len(parser.titletext().split(' ')))\n",
    "                \n",
    "            self.links_words.points.append(len(parser.atext().split(' ')))\n",
    "            if (mark == 0):\n",
    "                self.links_words.notspam.append(len(parser.atext().split(' ')))\n",
    "            elif (mark == 1):\n",
    "                self.links_words.spam.append(len(parser.atext().split(' ')))\n",
    "            parser.close()\n",
    "            \n",
    "            all_len = 0.0\n",
    "            t = parser.text().split(' ')\n",
    "            for w in t:\n",
    "                all_len += len(w)\n",
    "            \n",
    "            self.average_word_length.points.append(int(all_len / len(t)))\n",
    "            if (mark == 0):\n",
    "                self.average_word_length.notspam.append(int(all_len / len(t)))\n",
    "            elif (mark == 1):\n",
    "                self.average_word_length.spam.append(int(all_len / len(t)))\n",
    "            \n",
    " \n"
   ]
  },
  {
   "cell_type": "markdown",
   "metadata": {},
   "source": [
    "** Обрабатываем входной файл **\n",
    "Входной файл  ./data/train-set-ru-b64-utf-8.txt \n",
    "Формат - поля разделенные табуляциями\n",
    "0 - идентификатор документа\n",
    "1 - метка класса 0 - не спам, 1 - спам\n",
    "2 - урл документа\n",
    "3 - документ в кодировке base64\n"
   ]
  },
  {
   "cell_type": "code",
   "execution_count": 187,
   "metadata": {
    "collapsed": false,
    "scrolled": true
   },
   "outputs": [],
   "source": [
    "DATA_FILE  = './data/train-set-ru-b64-utf-8.txt'\n",
    "\n",
    "\n",
    "stats_collector = StatsCollector()\n",
    "i=0\n",
    "\n",
    "with open (DATA_FILE) as df:\n",
    "     for i, line in enumerate(df):\n",
    "            line = line.strip()\n",
    "            parts = line.split()\n",
    "            stats_collector.collect(int(parts[1]), parts[3], parts[2])\n",
    "            #print parts[1]\n",
    "            #if (i == 1):\n",
    "            #    break\n",
    "            \n"
   ]
  },
  {
   "cell_type": "code",
   "execution_count": 193,
   "metadata": {
    "collapsed": false
   },
   "outputs": [
    {
     "data": {
      "text/plain": [
       "[<matplotlib.lines.Line2D at 0x7f14bf8c2750>]"
      ]
     },
     "execution_count": 193,
     "metadata": {},
     "output_type": "execute_result"
    },
    {
     "data": {
      "image/png": "[encoded data removed]",
      "text/plain": [
       "<matplotlib.figure.Figure at 0x7f14bf8c2ed0>"
      ]
     },
     "metadata": {},
     "output_type": "display_data"
    }
   ],
   "source": [
    "ys, x = np.histogram(filter(lambda x: x < 8000, stats_collector.total_words.spam), bins = 100)\n",
    "yns, x = np.histogram(filter(lambda x: x < 8000, stats_collector.total_words.notspam), bins = 100)\n",
    "plt.plot(x[1:], ys, c ='r')\n",
    "plt.plot(x[1:], yns, c = 'b')"
   ]
  },
  {
   "cell_type": "code",
   "execution_count": 194,
   "metadata": {
    "collapsed": false
   },
   "outputs": [],
   "source": [
    "%matplotlib inline\n",
    "import matplotlib.pyplot as plt\n",
    "import numpy as np\n",
    "from collections import Counter\n",
    "\n",
    "def plot_stats(stat, threshold):\n",
    "\n",
    "    stat.points = list(set(stat.points))\n",
    "    stat.points = sorted(stat.points)\n",
    "    x = np.asarray(stat.points)\n",
    "    y_spam = []\n",
    "    y_notspam = []\n",
    "    pos = 0\n",
    "    for p in stat.points:\n",
    "        if (p > threshold):\n",
    "            break\n",
    "        p1 = filter(lambda x: x == p, stat.spam)\n",
    "        p2 = filter(lambda x: x == p, stat.notspam)\n",
    "        y_spam.append(len(p1))\n",
    "        y_notspam.append(len(p2))\n",
    "        pos += 1\n",
    "\n",
    "        \n",
    "    y_spam = np.asarray(y_spam)\n",
    "    y_notspam = np.asarray(y_notspam)\n",
    "    #print len(x) , len(y_spam), len(y_notspam)\n",
    "    plt.plot(x[:pos], y_spam, c = 'r')\n",
    "    plt.plot(x[:pos], y_notspam, c = 'b')\n",
    "    plt.grid(True)\n",
    "    plt.show()\n"
   ]
  },
  {
   "cell_type": "markdown",
   "metadata": {},
   "source": [
    "** Тут строим графики **\n",
    "1 - Количество слов в документах спам и не спам множеств\n",
    "2 - Количество слов в заголовках спам и не спам множеств\n",
    "3 - Средняя длина слова для спам и не спам множеств\n",
    "4 - Количество слов в ссылках спам и не спам множеств"
   ]
  },
  {
   "cell_type": "code",
   "execution_count": 195,
   "metadata": {
    "collapsed": false
   },
   "outputs": [
    {
     "data": {
      "image/png": "[encoded data removed]",
      "text/plain": [
       "<matplotlib.figure.Figure at 0x7f14bfdf1210>"
      ]
     },
     "metadata": {},
     "output_type": "display_data"
    }
   ],
   "source": [
    "plot_stats(stats_collector.header_words, 30)"
   ]
  },
  {
   "cell_type": "code",
   "execution_count": 196,
   "metadata": {
    "collapsed": false
   },
   "outputs": [
    {
     "data": {
      "image/png": "[encoded data removed]",
      "text/plain": [
       "<matplotlib.figure.Figure at 0x7f14bf976bd0>"
      ]
     },
     "metadata": {},
     "output_type": "display_data"
    }
   ],
   "source": [
    "plot_stats(stats_collector.average_word_length, 20)"
   ]
  },
  {
   "cell_type": "code",
   "execution_count": 197,
   "metadata": {
    "collapsed": false
   },
   "outputs": [
    {
     "data": {
      "text/plain": [
       "[<matplotlib.lines.Line2D at 0x7f14bf779fd0>]"
      ]
     },
     "execution_count": 197,
     "metadata": {},
     "output_type": "execute_result"
    },
    {
     "data": {
      "image/png": "[encoded data removed]",
      "text/plain": [
       "<matplotlib.figure.Figure at 0x7f14bfbae810>"
      ]
     },
     "metadata": {},
     "output_type": "display_data"
    }
   ],
   "source": [
    "ys, x = np.histogram(filter(lambda x: x < 700, stats_collector.links_words.spam), bins = 100)\n",
    "yns, x = np.histogram(filter(lambda x: x < 700, stats_collector.links_words.notspam), bins = 100)\n",
    "plt.plot(x[1:], ys, c ='r')\n",
    "plt.plot(x[1:], yns, c = 'b')"
   ]
  },
  {
   "cell_type": "code",
   "execution_count": null,
   "metadata": {
    "collapsed": true
   },
   "outputs": [],
   "source": []
  }
 ],
 "metadata": {
  "kernelspec": {
   "display_name": "Python 2",
   "language": "python",
   "name": "python2"
  },
  "language_info": {
   "codemirror_mode": {
    "name": "ipython",
    "version": 2
   },
   "file_extension": ".py",
   "mimetype": "text/x-python",
   "name": "python",
   "nbconvert_exporter": "python",
   "pygments_lexer": "ipython2",
   "version": "2.7.6"
  }
 },
 "nbformat": 4,
 "nbformat_minor": 0
}
