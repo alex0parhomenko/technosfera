{
 "cells": [
  {
   "cell_type": "markdown",
   "metadata": {},
   "source": [
    "# Реализация алгоритма стохастического градиентного бустинга с\n",
    "# квадратичной функцией потерь. В качестве базового алгоритма\n",
    "# использовать алгоритм CART с RSM. ДЗ1"
   ]
  },
  {
   "cell_type": "code",
   "execution_count": 1,
   "metadata": {
    "collapsed": true
   },
   "outputs": [],
   "source": [
    "import sklearn as sk\n",
    "import numpy as np\n",
    "import pandas as pd\n",
    "import time\n",
    "from sklearn.cross_validation import KFold\n",
    "from sklearn import tree\n",
    "from sklearn import ensemble\n",
    "from sklearn import datasets\n",
    "\n",
    "import matplotlib.pylab as plt\n",
    "%matplotlib inline"
   ]
  },
  {
   "cell_type": "markdown",
   "metadata": {},
   "source": [
    "# CART implemention"
   ]
  },
  {
   "cell_type": "code",
   "execution_count": 2,
   "metadata": {
    "collapsed": false
   },
   "outputs": [],
   "source": [
    "class CART:    \n",
    "    def __init__(self, features_rate, min_samples_leaf, max_depth):\n",
    "        self.features_rate = features_rate\n",
    "        self.tree_map = {}\n",
    "        self.min_samples_leaf = min_samples_leaf\n",
    "        if (max_depth == None):\n",
    "            self.max_depth = 100000\n",
    "        else:\n",
    "            self.max_depth = max_depth\n",
    "\n",
    "    def gen_tree(self, element_numbers, vertex_num, mean, now_depth, mse_value):\n",
    "         \n",
    "        if (now_depth == self.max_depth):  \n",
    "            self.tree_map[str(vertex_num)] = [[None, None], [1], [mean], [None, None]]\n",
    "            return 0\n",
    "        \n",
    "        min_mse = mse_value\n",
    "\n",
    "        pos_num_split = np.nan\n",
    "        value_split = np.nan\n",
    "        \n",
    "        left = []\n",
    "        right = []\n",
    "        \n",
    "        cou_elements = len(element_numbers)\n",
    "        \n",
    "        best_left_square_sum = np.nan\n",
    "        best_left_sum = np.nan\n",
    "        best_right_square_sum = np.nan\n",
    "        best_right_sum = np.nan\n",
    "        \n",
    "        x = self.x[element_numbers]\n",
    "        y = self.y[element_numbers]\n",
    "\n",
    "        for feature_num in range(self.features_cou_analize):\n",
    "\n",
    "            sort_ind = x[:,feature_num].argsort()\n",
    "            new_x = x[:,feature_num][sort_ind]\n",
    "            new_y = y[sort_ind]\n",
    "            \n",
    "            left_cou = 0\n",
    "            right_cou = cou_elements\n",
    "            \n",
    "            del_num = 0\n",
    "            right_square_sum = mse_value + mean * mean * cou_elements * 1.0\n",
    "            right_sum = mean * cou_elements * 1.0\n",
    "            left_square_sum = 0.0\n",
    "            left_sum = 0.0\n",
    "            feature_value_split = np.nan\n",
    "            for i, feature_value in enumerate(new_x):\n",
    "                \n",
    "                if (feature_value_split == feature_value):\n",
    "                    continue\n",
    "                    \n",
    "                if (np.isnan(feature_value_split)):\n",
    "                    feature_value_split = feature_value\n",
    "                else:\n",
    "                    feature_value_split = 0.5 * (feature_value_split + feature_value)\n",
    "                    \n",
    "                while (1):\n",
    "                    if (new_x[del_num] < feature_value_split):\n",
    "                        y_val = new_y[del_num]\n",
    "                        del_num += 1\n",
    "                        left_cou += 1\n",
    "                        right_cou -= 1\n",
    "                        \n",
    "                        left_square_sum += y_val * y_val\n",
    "                        left_sum += y_val\n",
    "                        \n",
    "                        right_square_sum -= y_val * y_val\n",
    "                        right_sum -= y_val\n",
    "                    else:\n",
    "                        break\n",
    "                \n",
    "                if (left_cou < self.min_samples_leaf):\n",
    "                    continue\n",
    "                elif (right_cou < self.min_samples_leaf):\n",
    "                    break\n",
    "                \n",
    "                now_left_mse = left_square_sum - left_sum * left_sum * 1.0/ left_cou\n",
    "                now_right_mse = right_square_sum - right_sum * right_sum * 1.0 / right_cou\n",
    "                \n",
    "                if (now_left_mse + now_right_mse < min_mse):\n",
    "                    min_mse = now_left_mse + now_right_mse\n",
    "                    pos_num_split = feature_num\n",
    "                    value_split = feature_value_split\n",
    "                    \n",
    "                    best_left_square_sum = left_square_sum\n",
    "                    best_left_sum = left_sum\n",
    "                    \n",
    "                    best_right_square_sum = right_square_sum\n",
    "                    best_right_sum = right_sum\n",
    "                    \n",
    "        if (np.isnan(value_split)):\n",
    "            self.tree_map[str(vertex_num)]= [[None, None], [1], [mean], [None, None]]\n",
    "            return 0\n",
    "        \n",
    "        self.tree_map[str(vertex_num)] = [[self.feature_order[pos_num_split], value_split], [0], [mean], [vertex_num*2 + 1, vertex_num*2 + 2]]\n",
    "        \n",
    "        \n",
    "        left_class = []\n",
    "        right_class = []\n",
    "        \n",
    "        for pos in element_numbers:\n",
    "            if (self.x[pos][pos_num_split] < value_split):\n",
    "                left.append(pos)\n",
    "            else:\n",
    "                right.append(pos)\n",
    "\n",
    "        left_mse = best_left_square_sum - (best_left_sum ** 2.0) / len(left)\n",
    "        right_mse = best_right_square_sum - (best_right_sum ** 2.0) / len(right)\n",
    "        \n",
    "        self.feature_contribution[self.feature_order[pos_num_split]] += (mse_value - left_mse - right_mse)\n",
    "        \n",
    "        self.gen_tree(left, vertex_num*2 + 1, best_left_sum * 1.0 / len(left), now_depth + 1, left_mse)\n",
    "        self.gen_tree(right, vertex_num*2 + 2, best_right_sum *1.0/ len(right), now_depth + 1, right_mse)\n",
    "        \n",
    "    def fit(self, x, y):\n",
    "        self.tree_map = {}\n",
    "        \n",
    "        x = np.asarray(x, dtype = np.float)\n",
    "        features_cou = (x.shape)[1]\n",
    "        self.feature_order = np.sort(np.random.choice((x.shape)[1], int((x.shape)[1] * (self.features_rate)), replace=False))\n",
    "        \n",
    "        self.features_cou_analize = int((x.shape)[1] * (self.features_rate))\n",
    "        self.cou_samples = len(x)\n",
    "        \n",
    "        self.feature_contribution = np.zeros(features_cou)\n",
    "        \n",
    "        for i in reversed(range(features_cou)):\n",
    "            if (i not in self.feature_order):\n",
    "                x = np.delete(x, i, 1)\n",
    "\n",
    "        self.x = x\n",
    "        self.y = np.asarray(y, dtype = np.float)\n",
    "        y_pred = np.tile(np.sum(y) * 1.0 / len(y), len(y))\n",
    "        \n",
    "        self.gen_tree(np.arange(self.cou_samples), 0, np.sum(y) * 1.0 / len(y), 0, np.sum((y_pred - self.y) ** 2.0))\n",
    "        \n",
    "        return self.tree_map\n",
    "\n",
    "    def predict(self, data):\n",
    "        y_pred = []\n",
    "        for sample in data:\n",
    "            now_vertex = 0\n",
    "            while (1):\n",
    "                if (self.tree_map[str(now_vertex)][1][0] == 1):\n",
    "                    break\n",
    "                if (sample[self.tree_map[str(now_vertex)][0][0]] >= self.tree_map[str(now_vertex)][0][1]):\n",
    "                    now_vertex = self.tree_map[str(now_vertex)][3][1]\n",
    "                else:\n",
    "                    now_vertex = self.tree_map[str(now_vertex)][3][0]\n",
    "            y_pred.append(self.tree_map[str(now_vertex)][2][0])\n",
    "        return y_pred\n",
    "        \n",
    "        "
   ]
  },
  {
   "cell_type": "markdown",
   "metadata": {},
   "source": [
    "# Load Data Wine"
   ]
  },
  {
   "cell_type": "code",
   "execution_count": 3,
   "metadata": {
    "collapsed": false
   },
   "outputs": [],
   "source": [
    "data = []\n",
    "true_class = []\n",
    "f = open(\"wine.data.txt\", \"r\")\n",
    "f = f.readlines()\n",
    "\n",
    "for line in f:\n",
    "    line = line.strip()\n",
    "    line = line.split(',')\n",
    "    true_class.append(line[0])\n",
    "    del line[0]\n",
    "    data.append(line)\n",
    "shape_x = len(data)\n",
    "shape_y = len(data[0])\n",
    "\n",
    "data = np.asarray(data, dtype=np.float)\n",
    "true_class = np.asarray(true_class, dtype = np.int)\n"
   ]
  },
  {
   "cell_type": "markdown",
   "metadata": {
    "collapsed": true
   },
   "source": [
    "# Cross Validation for CART"
   ]
  },
  {
   "cell_type": "code",
   "execution_count": 4,
   "metadata": {
    "collapsed": false
   },
   "outputs": [
    {
     "name": "stdout",
     "output_type": "stream",
     "text": [
      "My mse 0.133333333333\n",
      "sklearn mse 0.133333333333\n",
      "My mse 0.0333333333333\n",
      "sklearn mse 0.166666666667\n",
      "My mse 0.1\n",
      "sklearn mse 0.1\n",
      "My mse 0.133333333333\n",
      "sklearn mse 0.0666666666667\n",
      "My mse 0.137931034483\n",
      "sklearn mse 0.0689655172414\n",
      "My mse 0.137931034483\n",
      "sklearn mse 0.0\n",
      "my_mean_mse 0.112643678161\n",
      "sk_mean_mse 0.0892720306513\n"
     ]
    }
   ],
   "source": [
    "cou_folds = 6\n",
    "kf = KFold(len(data), n_folds=cou_folds, shuffle=True)\n",
    "my_tree = 0.0\n",
    "sk_tree = 0.0\n",
    "cart = CART(1.0, 1, None)\n",
    "\n",
    "for train_index, test_index in kf:\n",
    "    x_train, x_test = data[train_index], data[test_index]\n",
    "    y_train, y_test = true_class[train_index], true_class[test_index]\n",
    "    cart.fit(x_train, y_train)\n",
    "    y_pred = cart.predict(x_test)\n",
    "    my_tree += sk.metrics.mean_squared_error(y_test, y_pred)\n",
    "    print 'My mse', sk.metrics.mean_squared_error(y_test, y_pred)\n",
    "    \n",
    "    clf = tree.DecisionTreeRegressor(max_depth=None)\n",
    "    clf = clf.fit(x_train, y_train)\n",
    "    y_pred = clf.predict(x_test)\n",
    "    sk_tree += sk.metrics.mean_squared_error(y_test, y_pred)\n",
    "    print 'sklearn mse', sk.metrics.mean_squared_error(y_test, y_pred)\n",
    "\n",
    "print 'my_mean_mse', my_tree / cou_folds\n",
    "print 'sk_mean_mse', sk_tree / cou_folds"
   ]
  },
  {
   "cell_type": "markdown",
   "metadata": {},
   "source": [
    "# STOCHASTIC GRADIENT BOOSTING"
   ]
  },
  {
   "cell_type": "code",
   "execution_count": 5,
   "metadata": {
    "collapsed": false
   },
   "outputs": [],
   "source": [
    "class Stochastic_gradient_boosting:\n",
    "    \n",
    "    def __init__(self, n_estimators, features_rate, cou_samples, min_samples_split, learning_rate, max_depth, loss):\n",
    "        \n",
    "        self.number_elements_in_subsample = cou_samples / n_estimators\n",
    "        self.n_estimators = n_estimators\n",
    "        self.features_rate = features_rate\n",
    "        self.cou_samples = cou_samples\n",
    "        self.loss = loss\n",
    "        self.min_samples_split = min_samples_split\n",
    "        self.shrinkage_value = learning_rate\n",
    "        if (max_depth == None):\n",
    "            self.max_depth = 10000\n",
    "        else:\n",
    "            self.max_depth = max_depth\n",
    "    \n",
    "    def get_predict_for_sample_and_one_tree(self, sample, tree_map):\n",
    "        now_vertex = 0\n",
    "        while (1):\n",
    "            if (tree_map[str(now_vertex)][1][0] == 1):\n",
    "                break\n",
    "            if (sample[tree_map[str(now_vertex)][0][0]] >= tree_map[str(now_vertex)][0][1]):\n",
    "                now_vertex = tree_map[str(now_vertex)][3][1]\n",
    "            else:\n",
    "                now_vertex = tree_map[str(now_vertex)][3][0]\n",
    "        return tree_map[str(now_vertex)][2][0]\n",
    "    \n",
    "    def get_predict_for_sample(self, sample):\n",
    "        answer = 0.0\n",
    "        for i in range(len(self.trees_list)):\n",
    "            answer += self.shrinkage_value * self.get_predict_for_sample_and_one_tree(sample, self.trees_list[i][1])\n",
    "        return answer\n",
    "    \n",
    "    def update_grad_for_l2(self, x, tree_map):\n",
    "        for i, sample in enumerate(x):\n",
    "            self.now_grad[i] -= 2.0 * self.get_predict_for_sample_and_one_tree(sample, tree_map) * self.shrinkage_value\n",
    "            \n",
    "    def update_grad_for_l1(self, x, tree_map):\n",
    "        for i, sample in enumerate(x):\n",
    "            pred_for_sample = self.get_predict_for_sample_and_one_tree(sample, tree_map) * self.shrinkage_value\n",
    "            self.y_balance[i] -= pred_for_sample\n",
    "            if (self.y_balance[i] == 0.0):\n",
    "                self.now_grad[i] = 0.00000001\n",
    "            elif (self.y_balance[i] > 0.0):\n",
    "                self.now_grad[i] = 1.0\n",
    "            elif (self.y_balance[i] < 0.0):\n",
    "                self.now_grad[i] = -1.0\n",
    "        \n",
    "        \n",
    "    def predict_regression(self, x):\n",
    "        y_pred = np.zeros(len(x))\n",
    "        for i, sample in enumerate(x):\n",
    "            y_pred[i] = self.get_predict_for_sample(sample)\n",
    "        return y_pred\n",
    "    \n",
    "    def fit(self, x, y):\n",
    "        self.pos_arr = np.arange(self.cou_samples)\n",
    "        self.now_grad = np.array(y, dtype = np.float)\n",
    "        self.trees_list = []\n",
    "        self.y_balance = np.array(y, dtype = np.float)\n",
    "        \n",
    "        cart = CART(self.features_rate, self.min_samples_split, self.max_depth)\n",
    "        \n",
    "        self.feature_contribution = np.zeros((x.shape)[1])\n",
    "        \n",
    "        for i in range(self.n_estimators):\n",
    "            np.random.shuffle(self.pos_arr)\n",
    "            index = self.pos_arr[:self.cou_samples / 2]\n",
    "            now_x = x[index]\n",
    "            now_y = self.now_grad[index]\n",
    "            \n",
    "            cart.fit(now_x, now_y)\n",
    "            if (i == 0 and self.loss == 'l2'):\n",
    "                self.now_grad *= 2.0\n",
    "            elif (i == 0 and self.loss == 'l1'):\n",
    "                self.now_grad = np.zeros(len(self.now_grad))\n",
    "                \n",
    "            self.feature_contribution += cart.feature_contribution\n",
    "            \n",
    "            self.trees_list.append([self.shrinkage_value, cart.tree_map])\n",
    "            \n",
    "            if (self.loss == 'l2'):\n",
    "                self.update_grad_for_l2(x, cart.tree_map)\n",
    "            elif (self.loss == 'l1'):\n",
    "                self.update_grad_for_l1(x, cart.tree_map)\n",
    "                \n",
    "        return self.trees_list"
   ]
  },
  {
   "cell_type": "markdown",
   "metadata": {},
   "source": [
    "# Testing Stochastic Gradient Boosting on spam Dataset"
   ]
  },
  {
   "cell_type": "markdown",
   "metadata": {},
   "source": [
    "# READ DATA"
   ]
  },
  {
   "cell_type": "code",
   "execution_count": 6,
   "metadata": {
    "collapsed": false
   },
   "outputs": [],
   "source": [
    "f = open(\"spam.train.txt\", \"r\")\n",
    "y_true = []\n",
    "data = []\n",
    "for line in f:\n",
    "    line = line[:len(line) - 1]\n",
    "    arr = line.split(' ')\n",
    "    y_true.append(arr[0])\n",
    "    del arr[0]\n",
    "    data.append(arr)\n",
    "data = np.asarray(data, dtype = np.float)\n",
    "y_true = np.asarray(y_true, dtype = np.float)"
   ]
  },
  {
   "cell_type": "code",
   "execution_count": 7,
   "metadata": {
    "collapsed": false
   },
   "outputs": [],
   "source": [
    "f = open(\"spam.test.txt\", \"r\")\n",
    "test_data = []\n",
    "test_y = []\n",
    "for line in f:\n",
    "    line = line[:len(line) - 1]\n",
    "    arr = line.split(' ')\n",
    "    test_y.append(arr[0])\n",
    "    del arr[0]\n",
    "    test_data.append(arr)\n",
    "    \n",
    "test_data = np.asarray(test_data, dtype = np.float)\n",
    "test_y = np.asarray(test_y, dtype = np.float)"
   ]
  },
  {
   "cell_type": "markdown",
   "metadata": {
    "collapsed": true
   },
   "source": [
    "## Print plots"
   ]
  },
  {
   "cell_type": "code",
   "execution_count": 8,
   "metadata": {
    "collapsed": false
   },
   "outputs": [
    {
     "name": "stdout",
     "output_type": "stream",
     "text": [
      "Mse Error 0.0665084082707\n",
      "358.794888\n"
     ]
    }
   ],
   "source": [
    "t1 = time.clock()\n",
    "cou_samples = len(data)\n",
    "original_params = {'n_estimators': 100, 'features_rate': 0.7, 'cou_samples': cou_samples, 'min_samples_split': 4,\n",
    "                'learning_rate' : 0.03, 'max_depth' : 3, 'loss' : \"l2\"}\n",
    "\n",
    "boosting_l2 = Stochastic_gradient_boosting(**original_params)\n",
    "boosting_l2.fit(data, y_true)\n",
    "y_pred = boosting_l2.predict_regression(test_data)\n",
    "print 'Mse Error', sk.metrics.mean_squared_error(test_y, y_pred)\n",
    "print time.clock() - t1"
   ]
  },
  {
   "cell_type": "code",
   "execution_count": 9,
   "metadata": {
    "collapsed": false
   },
   "outputs": [
    {
     "name": "stdout",
     "output_type": "stream",
     "text": [
      "63.48111\n"
     ]
    }
   ],
   "source": [
    "t1 = time.clock()\n",
    "estimators_list = np.linspace(30, 100, 8)\n",
    "mse_sklearn = []\n",
    "for cou_estimators in estimators_list:\n",
    "    params = {'n_estimators': int(cou_estimators), 'max_depth': 3, 'min_samples_split': 4,\n",
    "          'learning_rate': 0.03, 'loss': 'ls'}\n",
    "    \n",
    "    clf = ensemble.GradientBoostingRegressor(**params)\n",
    "    clf.fit(data, y_true)\n",
    "    y_pred = clf.predict(test_data)\n",
    "    mse_sklearn.append(sk.metrics.mean_squared_error(test_y, y_pred))\n",
    "print time.clock() - t1"
   ]
  },
  {
   "cell_type": "code",
   "execution_count": 16,
   "metadata": {
    "collapsed": false
   },
   "outputs": [
    {
     "name": "stdout",
     "output_type": "stream",
     "text": [
      "528.161966\n"
     ]
    }
   ],
   "source": [
    "t1 = time.clock()\n",
    "cou_samples = len(data)\n",
    "original_params = {'n_estimators': 100, 'features_rate': 0.7, 'cou_samples': cou_samples, 'min_samples_split': 4,\n",
    "                'learning_rate' : 0.03, 'max_depth' : 3, 'loss' : \"l1\"}\n",
    "\n",
    "boosting_l1 = Stochastic_gradient_boosting(**original_params)\n",
    "boosting_l1.fit(data, y_true)\n",
    "y_pred = boosting_l1.predict_regression(test_data)\n",
    "print time.clock() - t1"
   ]
  },
  {
   "cell_type": "code",
   "execution_count": 17,
   "metadata": {
    "collapsed": false
   },
   "outputs": [
    {
     "data": {
      "image/png": "[encoded data removed]",
      "text/plain": [
       "<matplotlib.figure.Figure at 0x7fa2d14049d0>"
      ]
     },
     "metadata": {},
     "output_type": "display_data"
    }
   ],
   "source": [
    "y = test_y.copy()\n",
    "y1 = test_y.copy()\n",
    "my_mse_for_l2 = []\n",
    "my_mse_for_l1 = []\n",
    "cou_samples = len(test_y)\n",
    "y = np.array(y, dtype = np.float)\n",
    "y1 = np.array(y1, dtype = np.float)\n",
    "for i in range(0, 100):\n",
    "    for j, sample in enumerate(test_data):\n",
    "        y[j] -= boosting_l2.get_predict_for_sample_and_one_tree(sample, boosting_l2.trees_list[i][1]) * boosting_l2.shrinkage_value\n",
    "        y1[j] -= boosting_l1.get_predict_for_sample_and_one_tree(sample, boosting_l1.trees_list[i][1]) * boosting_l1.shrinkage_value\n",
    "    if (i + 1 in estimators_list):\n",
    "        my_mse_for_l2.append(np.sum(y ** 2.0) * 1.0 / cou_samples)\n",
    "        my_mse_for_l1.append(np.sum(y1 ** 2.0) * 1.0 / cou_samples)\n",
    "    \n",
    "    \n",
    "\n",
    "        \n",
    "mse_sklearn = np.asarray(mse_sklearn, dtype = np.float)\n",
    "estimators_list = np.asarray(estimators_list, dtype = np.float)\n",
    "plt.figure(figsize = (8, 6), dpi = 80)\n",
    "plt.xlabel('cou_estimators')\n",
    "plt.ylabel('sklearn regression boosting error')\n",
    "plt.plot(estimators_list, mse_sklearn, 'b')\n",
    "plt.plot(estimators_list, mse_sklearn * 1.03, c = 'r')\n",
    "plt.plot(estimators_list, my_mse_for_l2, c = 'g')\n",
    "plt.plot(estimators_list, my_mse_for_l1, c = 'y')\n",
    "plt.show()"
   ]
  },
  {
   "cell_type": "markdown",
   "metadata": {},
   "source": [
    "# Реализовать embedded метод отбора признаков для\n",
    "# своего варианта из дз 1. Провести сравнительный анализ своего\n",
    "# метода с каждым из подходов, описанных на лекции (т.е. нужно\n",
    "# минимум реализовать один wrapper и один filter метод). Построить\n",
    "# графики. ДЗ2"
   ]
  },
  {
   "cell_type": "markdown",
   "metadata": {
    "collapsed": true
   },
   "source": [
    "# Implemention embedded method"
   ]
  },
  {
   "cell_type": "code",
   "execution_count": 8,
   "metadata": {
    "collapsed": false
   },
   "outputs": [],
   "source": [
    "def emdedded_method(params, data, y_true, cou_features):\n",
    "    t1 = time.clock()\n",
    "    boosting = Stochastic_gradient_boosting(**params)\n",
    "    boosting.fit(data, y_true)\n",
    "    a = boosting.feature_contribution\n",
    "    f_contrib = []\n",
    "    for feature_num, feature_contribution in enumerate(a):\n",
    "        f_contrib.append([feature_contribution, feature_num])\n",
    "        \n",
    "    f_contrib = sorted(f_contrib, reverse= True)\n",
    "    f_contrib = np.asarray(f_contrib, dtype = np.float)\n",
    "    \n",
    "    result_positions = []\n",
    "    for i in xrange(cou_features):\n",
    "        result_positions.append(f_contrib[i][1])\n",
    "    \n",
    "    return result_positions, np.tile([time.clock() - t1], cou_features)\n"
   ]
  },
  {
   "cell_type": "code",
   "execution_count": 10,
   "metadata": {
    "collapsed": false
   },
   "outputs": [],
   "source": [
    "params = {'n_estimators': 60, 'features_rate': 1.0, 'cou_samples': len(data), 'min_samples_split': 40,\n",
    "                    'learning_rate' : 0.06, 'max_depth' : 5, 'loss' : 'l2'}\n",
    "cou_features = (data.shape)[1] - 15\n",
    "features_embedded, time_embedded = emdedded_method(params, data, y_true, cou_features)"
   ]
  },
  {
   "cell_type": "code",
   "execution_count": 11,
   "metadata": {
    "collapsed": false
   },
   "outputs": [
    {
     "name": "stdout",
     "output_type": "stream",
     "text": [
      "[48.0, 101.0, 35.0, 70.0, 53.0, 71.0, 9.0, 10.0, 49.0, 17.0, 8.0, 4.0, 16.0, 56.0, 15.0, 41.0, 14.0, 52.0, 32.0, 29.0, 75.0, 38.0, 76.0, 73.0, 43.0, 47.0, 19.0, 12.0, 33.0, 55.0, 91.0, 40.0, 31.0, 39.0, 45.0, 3.0, 30.0, 13.0, 79.0, 50.0, 83.0, 80.0, 100.0, 24.0, 11.0, 37.0, 18.0, 81.0, 51.0, 87.0, 7.0, 20.0, 5.0, 54.0, 46.0, 23.0, 28.0, 90.0, 78.0, 27.0, 74.0, 95.0, 22.0, 72.0, 21.0, 44.0, 82.0, 0.0, 25.0, 61.0, 84.0, 42.0, 6.0, 93.0, 86.0, 1.0, 89.0, 2.0, 26.0, 96.0, 99.0, 98.0, 97.0, 94.0, 92.0, 88.0, 85.0] 493.313277\n"
     ]
    }
   ],
   "source": [
    "print features_embedded, time_embedded"
   ]
  },
  {
   "cell_type": "markdown",
   "metadata": {
    "collapsed": true
   },
   "source": [
    "# Implemention Wrapper method"
   ]
  },
  {
   "cell_type": "code",
   "execution_count": 9,
   "metadata": {
    "collapsed": false
   },
   "outputs": [],
   "source": [
    "def forward_selection(data, y_true, features_select):\n",
    "    start_time = time.clock()\n",
    "    time_arr = []\n",
    "    \n",
    "    data = np.asarray(data, np.float)\n",
    "    y_true = np.asarray(y_true, np.float)\n",
    "    \n",
    "    features_set = []\n",
    "    features_cou = (data.shape)[1]\n",
    "    Q = 100000.0\n",
    "    for i in range(features_select):\n",
    "        print i\n",
    "        best_feature = -1\n",
    "        Q = 1000000.0\n",
    "        for j in range(features_cou):\n",
    "            now_x = data.copy()\n",
    "\n",
    "            if (j not in features_set):\n",
    "                now_set = list(features_set)\n",
    "                now_set.append(j)\n",
    "                for del_pos in reversed(range(features_cou)):\n",
    "                    if (del_pos not in now_set):\n",
    "                        now_x = np.delete(now_x, del_pos, axis = 1)\n",
    "            else:\n",
    "                continue\n",
    "                \n",
    "\n",
    "            cou_folds = 4\n",
    "            kf = KFold(len(data), n_folds=cou_folds, shuffle=True)\n",
    "            mse_value_for_now_feature = 0.0\n",
    "            for train_index, test_index in kf:\n",
    "                x_train, x_test = now_x[train_index], now_x[test_index]\n",
    "                y_train, y_test = y_true[train_index], y_true[test_index]\n",
    "                \n",
    "                params = {'n_estimators': 50, 'max_depth': 4, 'min_samples_split': 4,\n",
    "                      'learning_rate': 0.05, 'loss': 'ls'}\n",
    "                \n",
    "                clf = ensemble.GradientBoostingRegressor(**params)\n",
    "                clf.fit(x_train, y_train)\n",
    "                y_pred = clf.predict(x_test)\n",
    "                mse_value_for_now_feature += sk.metrics.mean_squared_error(y_test, y_pred)\n",
    "\n",
    "            \n",
    "            mse_value_for_now_feature /= cou_folds\n",
    "            if (mse_value_for_now_feature < Q):\n",
    "                Q = mse_value_for_now_feature\n",
    "                best_feature = j\n",
    "        features_set.append(best_feature)\n",
    "        time_arr.append(time.clock() - start_time)\n",
    "    return features_set, np.asarray(time_arr, dtype = np.float)"
   ]
  },
  {
   "cell_type": "code",
   "execution_count": 13,
   "metadata": {
    "collapsed": false
   },
   "outputs": [
    {
     "ename": "TypeError",
     "evalue": "forward_selection() takes exactly 3 arguments (4 given)",
     "output_type": "error",
     "traceback": [
      "\u001b[1;31m---------------------------------------------------------------------------\u001b[0m",
      "\u001b[1;31mTypeError\u001b[0m                                 Traceback (most recent call last)",
      "\u001b[1;32m<ipython-input-13-f1fd82c96fd8>\u001b[0m in \u001b[0;36m<module>\u001b[1;34m()\u001b[0m\n\u001b[1;32m----> 1\u001b[1;33m \u001b[0mfeatures_forward_selection\u001b[0m\u001b[1;33m,\u001b[0m \u001b[0mtime_forward_selection\u001b[0m \u001b[1;33m=\u001b[0m \u001b[0mforward_selection\u001b[0m\u001b[1;33m(\u001b[0m\u001b[0mdata\u001b[0m\u001b[1;33m,\u001b[0m \u001b[0my_true\u001b[0m\u001b[1;33m,\u001b[0m \u001b[1;36m0.9\u001b[0m\u001b[1;33m,\u001b[0m \u001b[1;36m15\u001b[0m\u001b[1;33m)\u001b[0m\u001b[1;33m\u001b[0m\u001b[0m\n\u001b[0m",
      "\u001b[1;31mTypeError\u001b[0m: forward_selection() takes exactly 3 arguments (4 given)"
     ]
    }
   ],
   "source": [
    "features_forward_selection, time_forward_selection = forward_selection(data, y_true, 0.9, 15)"
   ]
  },
  {
   "cell_type": "code",
   "execution_count": 14,
   "metadata": {
    "collapsed": false
   },
   "outputs": [
    {
     "ename": "NameError",
     "evalue": "name 'features_forward_selection' is not defined",
     "output_type": "error",
     "traceback": [
      "\u001b[1;31m---------------------------------------------------------------------------\u001b[0m",
      "\u001b[1;31mNameError\u001b[0m                                 Traceback (most recent call last)",
      "\u001b[1;32m<ipython-input-14-07257d2970e1>\u001b[0m in \u001b[0;36m<module>\u001b[1;34m()\u001b[0m\n\u001b[1;32m----> 1\u001b[1;33m \u001b[1;32mprint\u001b[0m \u001b[0mfeatures_forward_selection\u001b[0m\u001b[1;33m,\u001b[0m \u001b[0mtime_forward_selection\u001b[0m\u001b[1;33m\u001b[0m\u001b[0m\n\u001b[0m",
      "\u001b[1;31mNameError\u001b[0m: name 'features_forward_selection' is not defined"
     ]
    }
   ],
   "source": [
    "print features_forward_selection, time_forward_selection"
   ]
  },
  {
   "cell_type": "markdown",
   "metadata": {},
   "source": [
    "# Corelation Feature Selection implement"
   ]
  },
  {
   "cell_type": "code",
   "execution_count": 10,
   "metadata": {
    "collapsed": false
   },
   "outputs": [],
   "source": [
    "def corelation_feature_selection(x, y, features_select):\n",
    "    start_time = time.clock()\n",
    "    time_arr = []\n",
    "    \n",
    "    features_cou = (x.shape)[1]\n",
    "    samples_cou = len(y)\n",
    "    corelation_target = np.zeros(features_cou, dtype = np.float)\n",
    "    pair_feature_corelation = np.zeros(shape = (features_cou, features_cou))\n",
    "    y_mean = np.tile(np.sum(y) / samples_cou, samples_cou)\n",
    "    \n",
    "    for pos in range(features_cou):    \n",
    "        now_feature = x[:,pos]\n",
    "        now_feature_mean = np.tile(np.sum(now_feature) / samples_cou, samples_cou)\n",
    "        corelation_target[pos] = np.sum((y - y_mean) * (now_feature - now_feature_mean)) / np.sqrt(np.sum((y - y_mean) ** 2) * np.sum((now_feature - now_feature_mean) ** 2))\n",
    "    \n",
    "    for first_pos in range(features_cou):\n",
    "        first_feature = x[:, first_pos]\n",
    "        first_feature_mean = np.tile(np.sum(first_feature) / samples_cou, samples_cou)\n",
    "        for second_pos in range(features_cou):\n",
    "            second_feature = x[:, second_pos]\n",
    "            second_feature_mean = np.tile(np.sum(second_feature) / samples_cou, samples_cou)\n",
    "            pair_feature_corelation[first_pos][second_pos] = np.sum((first_feature - first_feature_mean) * (second_feature - second_feature_mean))/ np.sqrt(np.sum((first_feature - first_feature_mean) ** 2) * np.sum((second_feature - second_feature_mean) ** 2))\n",
    "            \n",
    "    features_set = []\n",
    "    \n",
    "    best_nominator = 0.0\n",
    "    best_denominator = 0.0\n",
    "    now_nominator = 0.0\n",
    "    now_denominator = 0.0\n",
    "    best_value = 0.0\n",
    "    \n",
    "    for i in range(features_select):\n",
    "        print i\n",
    "        best_pos = -1\n",
    "        now_nominator = 0.0\n",
    "        now_denominator = 0.0\n",
    "        best_value = np.float(\"-inf\")\n",
    "        \n",
    "        for pos in range(features_cou):\n",
    "            if (pos not in features_set):\n",
    "                now_nominator = best_nominator + corelation_target[pos]\n",
    "                now_denominator = np.sqrt(best_denominator ** 2 + 1 + 2.0 * np.sum(pair_feature_corelation[pos][features_set]))\n",
    "            else:\n",
    "                continue\n",
    "                \n",
    "            if ((now_nominator / now_denominator) > best_value):\n",
    "                best_value = now_nominator / now_denominator\n",
    "                best_pos = pos\n",
    "            \n",
    "        best_nominator = best_nominator + corelation_target[best_pos]\n",
    "        best_denominator = np.sqrt(best_denominator ** 2 + 1 + 2.0 * np.sum(pair_feature_corelation[best_pos][features_set]))\n",
    "        features_set.append(best_pos)\n",
    "        time_arr.append(time.clock() - start_time)\n",
    "        \n",
    "    return features_set, np.asarray(time_arr, dtype = np.float)"
   ]
  },
  {
   "cell_type": "code",
   "execution_count": 16,
   "metadata": {
    "collapsed": false
   },
   "outputs": [],
   "source": [
    "feature_corelation_selection, time_corelation_selection = corelation_feature_selection(data, y_true, 15)"
   ]
  },
  {
   "cell_type": "markdown",
   "metadata": {
    "collapsed": true
   },
   "source": [
    "# Print Plots "
   ]
  },
  {
   "cell_type": "markdown",
   "metadata": {},
   "source": [
    "## Find best count features for embedded method, best score - 48 features"
   ]
  },
  {
   "cell_type": "code",
   "execution_count": 17,
   "metadata": {
    "collapsed": false,
    "scrolled": true
   },
   "outputs": [
    {
     "name": "stdout",
     "output_type": "stream",
     "text": [
      "685.791569\n"
     ]
    },
    {
     "name": "stderr",
     "output_type": "stream",
     "text": [
      "/home/alex/.pyenv/versions/2.7.10/envs/sphere_mail/lib/python2.7/site-packages/ipykernel/__main__.py:8: DeprecationWarning: non integer (and non boolean) array-likes will not be accepted as indices in the future\n",
      "/home/alex/.pyenv/versions/2.7.10/envs/sphere_mail/lib/python2.7/site-packages/ipykernel/__main__.py:10: DeprecationWarning: non integer (and non boolean) array-likes will not be accepted as indices in the future\n"
     ]
    },
    {
     "data": {
      "image/png": "[encoded data removed]",
      "text/plain": [
       "<matplotlib.figure.Figure at 0x7f47e4b00f50>"
      ]
     },
     "metadata": {},
     "output_type": "display_data"
    }
   ],
   "source": [
    "start_time = time.clock()\n",
    "params = {'n_estimators': 120, 'max_depth': 4, 'min_samples_split': 4,\n",
    "                      'learning_rate': 0.05, 'loss': 'ls'}\n",
    "Y = []\n",
    "X = np.linspace(1, cou_features, cou_features)\n",
    "for i in range(cou_features):\n",
    "    now_x = data[:,features_embedded[0:i + 1]]\n",
    "    now_y = y_true\n",
    "    test_x = test_data[:,features_embedded[0:i+1]]\n",
    "    clf = sk.ensemble.GradientBoostingRegressor(**params)\n",
    "    clf.fit(now_x, now_y)\n",
    "    y_pred = clf.predict(test_x)\n",
    "\n",
    "    Y.append(sk.metrics.mean_squared_error(y_pred, test_y))\n",
    "\n",
    "print time.clock() - start_time\n",
    "plt.figure(figsize = (12, 12), dpi = 80)\n",
    "plt.plot(X, Y, c = 'b')\n",
    "plt.xlabel(\"Features count\")\n",
    "plt.ylabel(\"MSE value\")\n",
    "plt.show()"
   ]
  },
  {
   "cell_type": "code",
   "execution_count": null,
   "metadata": {
    "collapsed": false
   },
   "outputs": [],
   "source": [
    "features_embedded = features_embedded[0:102]\n",
    "\n",
    "print features_embedded"
   ]
  },
  {
   "cell_type": "markdown",
   "metadata": {},
   "source": [
    "## Get plot for embedde method"
   ]
  },
  {
   "cell_type": "code",
   "execution_count": 21,
   "metadata": {
    "collapsed": false
   },
   "outputs": [],
   "source": [
    "cou_samples = len(data)\n",
    "original_params = {'n_estimators': 300, 'features_rate': 1.0, 'cou_samples': cou_samples, 'min_samples_split': 4,\n",
    "                'learning_rate' : 0.03, 'max_depth' : 3, 'loss' : \"l2\"}\n",
    "estimators_list = np.linspace(1, 300, 300)"
   ]
  },
  {
   "cell_type": "code",
   "execution_count": 22,
   "metadata": {
    "collapsed": false
   },
   "outputs": [
    {
     "name": "stdout",
     "output_type": "stream",
     "text": [
      "672.24748\n"
     ]
    },
    {
     "name": "stderr",
     "output_type": "stream",
     "text": [
      "/home/alex/.pyenv/versions/2.7.10/envs/sphere_mail/lib/python2.7/site-packages/ipykernel/__main__.py:3: DeprecationWarning: non integer (and non boolean) array-likes will not be accepted as indices in the future\n",
      "  app.launch_new_instance()\n",
      "/home/alex/.pyenv/versions/2.7.10/envs/sphere_mail/lib/python2.7/site-packages/ipykernel/__main__.py:5: DeprecationWarning: non integer (and non boolean) array-likes will not be accepted as indices in the future\n"
     ]
    }
   ],
   "source": [
    "t1 = time.clock()\n",
    "\n",
    "now_x = data[:,features_embedded]\n",
    "now_y = y_true\n",
    "test_x = test_data[:,features_embedded]\n",
    "\n",
    "boosting_embedded_selection = Stochastic_gradient_boosting(**original_params)\n",
    "boosting_embedded_selection.fit(now_x, now_y)\n",
    "y_pred = boosting_embedded_selection.predict_regression(test_x)\n",
    "print time.clock() - t1"
   ]
  },
  {
   "cell_type": "code",
   "execution_count": 23,
   "metadata": {
    "collapsed": true
   },
   "outputs": [],
   "source": [
    "y = test_y.copy()\n",
    "mse_for_embedded_method = []\n",
    "cou_samples = len(test_y)\n",
    "y = np.array(y, dtype = np.float)\n",
    "\n",
    "for i in range(0, 300):\n",
    "    for j, sample in enumerate(test_x):\n",
    "        y[j] -= boosting_embedded_selection.get_predict_for_sample_and_one_tree(sample, boosting_embedded_selection.trees_list[i][1]) * boosting_embedded_selection.shrinkage_value\n",
    "    if (i + 1 in estimators_list):\n",
    "        mse_for_embedded_method.append(np.sum(y ** 2.0) * 1.0 / cou_samples)\n"
   ]
  },
  {
   "cell_type": "markdown",
   "metadata": {
    "collapsed": true
   },
   "source": [
    "## Get plot for Wrapper method"
   ]
  },
  {
   "cell_type": "code",
   "execution_count": 24,
   "metadata": {
    "collapsed": false
   },
   "outputs": [
    {
     "name": "stdout",
     "output_type": "stream",
     "text": [
      "177.651879\n"
     ]
    }
   ],
   "source": [
    "t1 = time.clock()\n",
    "\n",
    "now_x = data[:,features_forward_selection]\n",
    "now_y = y_true\n",
    "test_x = test_data[:,features_forward_selection]\n",
    "\n",
    "boosting_for_forward_selection = Stochastic_gradient_boosting(**original_params)\n",
    "boosting_for_forward_selection.fit(now_x, now_y)\n",
    "y_pred = boosting_for_forward_selection.predict_regression(test_x)\n",
    "print time.clock() - t1"
   ]
  },
  {
   "cell_type": "code",
   "execution_count": 25,
   "metadata": {
    "collapsed": true
   },
   "outputs": [],
   "source": [
    "y = test_y.copy()\n",
    "mse_for_forward_selection = []\n",
    "cou_samples = len(test_y)\n",
    "y = np.array(y, dtype = np.float)\n",
    "\n",
    "for i in range(0, 300):\n",
    "    for j, sample in enumerate(test_x):\n",
    "        y[j] -= boosting_for_forward_selection.get_predict_for_sample_and_one_tree(sample, boosting_for_forward_selection.trees_list[i][1]) * boosting_for_forward_selection.shrinkage_value\n",
    "    if (i + 1 in estimators_list):\n",
    "        mse_for_forward_selection.append(np.sum(y ** 2.0) * 1.0 / cou_samples)"
   ]
  },
  {
   "cell_type": "markdown",
   "metadata": {},
   "source": [
    "## Get plot for Corelation Feature Selection method "
   ]
  },
  {
   "cell_type": "code",
   "execution_count": 26,
   "metadata": {
    "collapsed": false
   },
   "outputs": [
    {
     "name": "stdout",
     "output_type": "stream",
     "text": [
      "167.14137\n"
     ]
    }
   ],
   "source": [
    "t1 = time.clock()\n",
    "\n",
    "now_x = data[:,feature_corelation_selection]\n",
    "now_y = y_true\n",
    "test_x = test_data[:,feature_corelation_selection]\n",
    "\n",
    "boosting_for_CFS = Stochastic_gradient_boosting(**original_params)\n",
    "boosting_for_CFS.fit(now_x, now_y)\n",
    "y_pred = boosting_for_CFS.predict_regression(test_x)\n",
    "print time.clock() - t1"
   ]
  },
  {
   "cell_type": "code",
   "execution_count": 27,
   "metadata": {
    "collapsed": true
   },
   "outputs": [],
   "source": [
    "y = test_y.copy()\n",
    "mse_for_CFS = []\n",
    "cou_samples = len(test_y)\n",
    "y = np.array(y, dtype = np.float)\n",
    "\n",
    "for i in range(0, 300):\n",
    "    for j, sample in enumerate(test_x):\n",
    "        y[j] -= boosting_for_CFS.get_predict_for_sample_and_one_tree(sample, boosting_for_CFS.trees_list[i][1]) * boosting_for_CFS.shrinkage_value\n",
    "    if (i + 1 in estimators_list):\n",
    "        mse_for_CFS.append(np.sum(y ** 2.0) * 1.0 / cou_samples)"
   ]
  },
  {
   "cell_type": "markdown",
   "metadata": {},
   "source": [
    "## Print plots"
   ]
  },
  {
   "cell_type": "code",
   "execution_count": 30,
   "metadata": {
    "collapsed": false
   },
   "outputs": [
    {
     "data": {
      "image/png": "[encoded data removed]",
      "text/plain": [
       "<matplotlib.figure.Figure at 0x7f47e254e390>"
      ]
     },
     "metadata": {},
     "output_type": "display_data"
    }
   ],
   "source": [
    "plt.figure(figsize = (12, 15), dpi = 80)\n",
    "embedded_line, = plt.plot(estimators_list, mse_for_embedded_method, c = 'b', label = \"MSE error for embedded method\")\n",
    "forward_line, = plt.plot(estimators_list, mse_for_forward_selection, c = 'g', label = \"MSE error for forward selection method\")\n",
    "CFS_line, = plt.plot(estimators_list, mse_for_CFS, c = 'r', label = \"MSE error for CFS method\")\n",
    "plt.legend(handles = [embedded_line, forward_line, CFS_line])\n",
    "plt.xlabel(\"estimators_count\")\n",
    "plt.ylabel(\"MSE error\")\n",
    "plt.show()"
   ]
  },
  {
   "cell_type": "markdown",
   "metadata": {
    "collapsed": true
   },
   "source": [
    "# Print plot methods time work"
   ]
  },
  {
   "cell_type": "code",
   "execution_count": 11,
   "metadata": {
    "collapsed": true
   },
   "outputs": [],
   "source": [
    "max_cou_features = (data.shape)[1]"
   ]
  },
  {
   "cell_type": "code",
   "execution_count": 12,
   "metadata": {
    "collapsed": false
   },
   "outputs": [
    {
     "name": "stdout",
     "output_type": "stream",
     "text": [
      "734.892021\n"
     ]
    }
   ],
   "source": [
    "st_time = time.clock()\n",
    "params = {'n_estimators': 100, 'features_rate': 1.0, 'cou_samples': len(data), 'min_samples_split': 40,\n",
    "                    'learning_rate' : 0.05, 'max_depth' : 4, 'loss' : 'l2'}\n",
    "features_embedded_select, time_embedded = emdedded_method(params, data, y_true, max_cou_features)\n",
    "print time.clock() - st_time\n"
   ]
  },
  {
   "cell_type": "code",
   "execution_count": 13,
   "metadata": {
    "collapsed": false
   },
   "outputs": [
    {
     "name": "stdout",
     "output_type": "stream",
     "text": [
      "0\n",
      "1\n",
      "2\n",
      "3\n",
      "4\n",
      "5\n",
      "6\n",
      "7\n",
      "8\n",
      "9\n",
      "10\n",
      "11\n",
      "12\n",
      "13\n",
      "14\n",
      "15\n",
      "16\n",
      "17\n",
      "18\n",
      "19\n",
      "20\n",
      "21\n",
      "22\n",
      "23\n",
      "24\n",
      "25\n",
      "26\n",
      "27\n",
      "28\n",
      "29\n",
      "30\n",
      "31\n",
      "32\n",
      "33\n",
      "34\n",
      "35\n",
      "36\n",
      "37\n",
      "38\n",
      "39\n",
      "40\n",
      "41\n",
      "42\n",
      "43\n",
      "44\n",
      "45\n",
      "46\n",
      "47\n",
      "48\n",
      "49\n",
      "50\n",
      "51\n",
      "52\n",
      "53\n",
      "54\n",
      "55\n",
      "56\n",
      "57\n",
      "58\n",
      "59\n",
      "60\n",
      "61\n",
      "62\n",
      "63\n",
      "64\n",
      "65\n",
      "66\n",
      "67\n",
      "68\n",
      "69\n",
      "70\n",
      "71\n",
      "72\n",
      "73\n",
      "74\n",
      "75\n",
      "76\n",
      "77\n",
      "78\n",
      "79\n",
      "80\n",
      "81\n",
      "82\n",
      "83\n",
      "84\n",
      "85\n",
      "86\n",
      "87\n",
      "88\n",
      "89\n",
      "90\n",
      "91\n",
      "92\n",
      "93\n",
      "94\n",
      "95\n",
      "96\n",
      "97\n",
      "98\n",
      "99\n",
      "100\n",
      "101\n",
      "42855.205795\n"
     ]
    }
   ],
   "source": [
    "features_wrapper_select, time_wrapper = forward_selection(data, y_true, max_cou_features)\n",
    "print time.clock() - st_time"
   ]
  },
  {
   "cell_type": "code",
   "execution_count": 14,
   "metadata": {
    "collapsed": false
   },
   "outputs": [
    {
     "name": "stdout",
     "output_type": "stream",
     "text": [
      "0\n",
      "1\n",
      "2\n",
      "3\n",
      "4\n",
      "5\n",
      "6\n",
      "7\n",
      "8\n",
      "9\n",
      "10\n",
      "11\n",
      "12\n",
      "13\n",
      "14\n",
      "15\n",
      "16\n",
      "17\n",
      "18\n",
      "19\n",
      "20\n",
      "21\n",
      "22\n",
      "23\n",
      "24\n",
      "25\n",
      "26\n",
      "27\n",
      "28\n",
      "29\n",
      "30\n",
      "31\n",
      "32\n",
      "33\n",
      "34\n",
      "35\n",
      "36\n",
      "37\n",
      "38\n",
      "39\n",
      "40\n",
      "41\n",
      "42\n",
      "43\n",
      "44\n",
      "45\n",
      "46\n",
      "47\n",
      "48\n",
      "49\n",
      "50\n",
      "51\n",
      "52\n",
      "53\n",
      "54\n",
      "55\n",
      "56\n",
      "57\n",
      "58\n",
      "59\n",
      "60\n",
      "61\n",
      "62\n",
      "63\n",
      "64\n",
      "65\n",
      "66\n",
      "67\n",
      "68\n",
      "69\n",
      "70\n",
      "71\n",
      "72\n",
      "73\n",
      "74\n",
      "75\n",
      "76\n",
      "77\n",
      "78\n",
      "79\n",
      "80\n",
      "81\n",
      "82\n",
      "83\n",
      "84\n",
      "85\n",
      "86\n",
      "87\n",
      "88\n",
      "89\n",
      "90\n",
      "91\n",
      "92\n",
      "93\n",
      "94\n",
      "95\n",
      "96\n",
      "97\n",
      "98\n",
      "99\n",
      "100\n",
      "101\n",
      "42859.374283\n"
     ]
    }
   ],
   "source": [
    "features_cfs_select, time_cfs = corelation_feature_selection(data, y_true, max_cou_features)\n",
    "print time.clock() - st_time"
   ]
  },
  {
   "cell_type": "code",
   "execution_count": 15,
   "metadata": {
    "collapsed": false
   },
   "outputs": [
    {
     "name": "stdout",
     "output_type": "stream",
     "text": [
      "[48, 101, 10, 56, 52, 14, 51, 99, 75, 73, 98, 92, 1, 2, 77, 28, 11, 71, 83, 47, 89, 34, 36, 16, 13, 12, 85, 96, 93, 88, 79, 24, 94, 26, 45, 97, 27, 37, 42, 44, 91, 15, 43, 3, 55, 59, 67, 69, 68, 5, 82, 6, 7, 23, 65, 25, 60, 22, 54, 20, 63, 40, 21, 50, 66, 84, 0, 95, 64, 86, 18, 46, 58, 33, 30, 81, 78, 80, 90, 17, 100, 57, 87, 38, 19, 76, 61, 39, 72, 62, 35, 29, 4, 74, 32, 41, 31, 9, 53, 70, 8, 49]\n"
     ]
    }
   ],
   "source": [
    "print features_cfs_select"
   ]
  },
  {
   "cell_type": "code",
   "execution_count": 16,
   "metadata": {
    "collapsed": false
   },
   "outputs": [
    {
     "name": "stdout",
     "output_type": "stream",
     "text": [
      "[48, 101, 10, 70, 49, 53, 52, 9, 71, 8, 41, 4, 73, 17, 45, 35, 43, 25, 59, 79, 29, 3, 55, 31, 21, 68, 94, 89, 23, 95, 28, 83, 42, 84, 54, 19, 26, 12, 96, 76, 20, 44, 46, 66, 97, 88, 62, 80, 86, 38, 92, 75, 14, 98, 22, 7, 5, 87, 15, 82, 24, 13, 85, 61, 32, 30, 69, 58, 99, 39, 78, 67, 1, 91, 47, 65, 6, 50, 93, 33, 81, 40, 100, 18, 11, 60, 34, 36, 74, 77, 56, 72, 51, 27, 2, 57, 0, 64, 37, 90, 63, 16]\n"
     ]
    }
   ],
   "source": [
    "print features_wrapper_select"
   ]
  },
  {
   "cell_type": "code",
   "execution_count": 17,
   "metadata": {
    "collapsed": false
   },
   "outputs": [
    {
     "name": "stdout",
     "output_type": "stream",
     "text": [
      "[48.0, 101.0, 70.0, 71.0, 49.0, 10.0, 9.0, 53.0, 17.0, 8.0, 35.0, 4.0, 16.0, 15.0, 56.0, 14.0, 41.0, 73.0, 31.0, 32.0, 29.0, 52.0, 38.0, 76.0, 43.0, 47.0, 83.0, 75.0, 33.0, 5.0, 39.0, 13.0, 55.0, 19.0, 12.0, 50.0, 30.0, 78.0, 3.0, 11.0, 51.0, 42.0, 23.0, 18.0, 24.0, 72.0, 45.0, 37.0, 100.0, 22.0, 27.0, 21.0, 91.0, 40.0, 54.0, 74.0, 0.0, 20.0, 87.0, 2.0, 28.0, 6.0, 84.0, 80.0, 46.0, 57.0, 93.0, 25.0, 61.0, 79.0, 86.0, 7.0, 81.0, 82.0, 85.0, 62.0, 95.0, 96.0, 44.0, 1.0, 90.0, 89.0, 26.0, 99.0, 98.0, 97.0, 94.0, 92.0, 88.0, 77.0, 69.0, 68.0, 67.0, 66.0, 65.0, 64.0, 63.0, 60.0, 59.0, 58.0, 36.0, 34.0]\n"
     ]
    }
   ],
   "source": [
    "print features_embedded_select"
   ]
  },
  {
   "cell_type": "code",
   "execution_count": 27,
   "metadata": {
    "collapsed": false
   },
   "outputs": [
    {
     "data": {
      "image/png": "[encoded data removed]",
      "text/plain": [
       "<matplotlib.figure.Figure at 0x7f01dfc38e50>"
      ]
     },
     "metadata": {},
     "output_type": "display_data"
    }
   ],
   "source": [
    "x = np.linspace(1, max_cou_features, max_cou_features)\n",
    "plt.figure(figsize = (10, 10), dpi = 80)\n",
    "embedded_line, = plt.plot(x, time_embedded, label = \"embedded line\")\n",
    "forward_line, = plt.plot(x, time_wrapper, label = \"wrapper line\")\n",
    "cfs_line, = plt.plot(x, time_cfs, label = \"cfs line\")\n",
    "plt.xlim(0, 150)\n",
    "plt.ylim(0, 50000)\n",
    "plt.legend(handles = [embedded_line, forward_line, cfs_line])\n",
    "plt.xlabel(\"features count\")\n",
    "plt.ylabel(\"work time\")\n",
    "plt.show()"
   ]
  },
  {
   "cell_type": "markdown",
   "metadata": {},
   "source": [
    "# Print plot dependence MSE from features_count for Embedded Wrapper and Filter methods on 100 trees"
   ]
  },
  {
   "cell_type": "code",
   "execution_count": 36,
   "metadata": {
    "collapsed": false
   },
   "outputs": [
    {
     "name": "stdout",
     "output_type": "stream",
     "text": [
      "[  1   2   3   4   5  10  15  20  25  30  35  40  45  50  55  60  65  70\n",
      "  75  80  85  90  95 100]\n",
      "0\n",
      "1\n",
      "2\n",
      "3\n",
      "4\n",
      "5\n",
      "6\n",
      "7\n",
      "8\n",
      "9\n",
      "10\n",
      "11\n",
      "12\n",
      "13\n",
      "14\n",
      "15\n",
      "16\n",
      "17\n",
      "18\n",
      "19\n",
      "20\n",
      "21\n",
      "22\n",
      "23\n"
     ]
    },
    {
     "name": "stderr",
     "output_type": "stream",
     "text": [
      "/home/alex/.pyenv/versions/2.7.10/envs/sphere_mail/lib/python2.7/site-packages/ipykernel/__main__.py:23: DeprecationWarning: non integer (and non boolean) array-likes will not be accepted as indices in the future\n",
      "/home/alex/.pyenv/versions/2.7.10/envs/sphere_mail/lib/python2.7/site-packages/ipykernel/__main__.py:25: DeprecationWarning: non integer (and non boolean) array-likes will not be accepted as indices in the future\n"
     ]
    }
   ],
   "source": [
    "x = []\n",
    "now_pos = 1\n",
    "while (now_pos < max_cou_features):\n",
    "    if (now_pos < 5):\n",
    "        x.append(now_pos)\n",
    "        now_pos+=1\n",
    "    else:\n",
    "        x.append(now_pos)\n",
    "        now_pos += 5\n",
    "\n",
    "x = np.asarray(x, np.int)\n",
    "y_embedded = []\n",
    "y_wrapper = []\n",
    "y_cfs = []\n",
    "print x\n",
    "params = {'n_estimators': 100, 'max_depth': 3, 'min_samples_split': 4,\n",
    "                      'learning_rate': 0.08, 'loss': 'ls'}\n",
    "clf = sk.ensemble.GradientBoostingRegressor(**params)\n",
    "    \n",
    "for i in range(len(x)):\n",
    "    print i\n",
    "    #Embedded method\n",
    "    now_x = data[:, features_embedded_select[:x[i]]]\n",
    "    now_y = y_true\n",
    "    test_x = test_data[:, features_embedded_select[:x[i]]]\n",
    "    clf.fit(now_x, now_y)\n",
    "    y_pred = clf.predict(test_x)\n",
    "    y_embedded.append(sk.metrics.mean_squared_error(y_pred, test_y))\n",
    "    #Wrapper method\n",
    "    now_x = data[:, features_wrapper_select[:x[i]]]\n",
    "    now_y = y_true\n",
    "    test_x = test_data[:, features_wrapper_select[:x[i]]]\n",
    "    clf.fit(now_x, now_y)\n",
    "    y_pred = clf.predict(test_x)\n",
    "    y_wrapper.append(sk.metrics.mean_squared_error(y_pred, test_y))\n",
    "    #CFS method\n",
    "    now_x = data[:, features_cfs_select[:x[i]]]\n",
    "    now_y = y_true\n",
    "    test_x = test_data[:, features_cfs_select[:x[i]]]\n",
    "    clf.fit(now_x, now_y)\n",
    "    y_pred = clf.predict(test_x)\n",
    "    y_cfs.append(sk.metrics.mean_squared_error(y_pred, test_y))\n",
    "    \n"
   ]
  },
  {
   "cell_type": "code",
   "execution_count": 37,
   "metadata": {
    "collapsed": false
   },
   "outputs": [
    {
     "data": {
      "image/png": "[encoded data removed]",
      "text/plain": [
       "<matplotlib.figure.Figure at 0x7f01dfad1110>"
      ]
     },
     "metadata": {},
     "output_type": "display_data"
    }
   ],
   "source": [
    "plt.figure(figsize = (10, 10), dpi = 80)\n",
    "embedded_line, = plt.plot(x, y_embedded, label = \"embedded line\")\n",
    "forward_line, = plt.plot(x, y_wrapper, label = \"wrapper line\")\n",
    "cfs_line, = plt.plot(x, y_cfs, label = \"cfs line\")\n",
    "plt.legend(handles = [embedded_line, forward_line, cfs_line])\n",
    "plt.xlabel(\"features count\")\n",
    "plt.ylabel(\"MSE Error\")\n",
    "plt.show()"
   ]
  },
  {
   "cell_type": "markdown",
   "metadata": {},
   "source": [
    "# Print plot mse_error on 250 trees"
   ]
  },
  {
   "cell_type": "code",
   "execution_count": 75,
   "metadata": {
    "collapsed": true
   },
   "outputs": [],
   "source": [
    "features_cfs_select = [48, 101, 10, 56, 52, 14, 51, 99, 75, 73, 98, 92, 1, 2, 77, 28, 11, 71, 83, 47, 89, 34, \n",
    "                       36, 16, 13, 12, 85, 96, 93, 88, 79, 24, 94, 26, 45, 97, 27, 37, 42, 44, 91, 15, 43, 3, 55,\n",
    "                       59, 67, 69, 68, 5, 82, 6, 7, 23, 65, 25, 60, 22, 54, 20, 63, 40, 21, 50, 66, 84, 0, 95, 64,\n",
    "                       86, 18, 46, 58, 33, 30, 81, 78, 80, 90, 17, 100, 57, 87, 38, 19, 76, 61, 39, 72, 62, 35, 29,\n",
    "                       4, 74, 32, 41, 31, 9, 53, 70, 8, 49]"
   ]
  },
  {
   "cell_type": "code",
   "execution_count": 76,
   "metadata": {
    "collapsed": true
   },
   "outputs": [],
   "source": [
    "features_wrapper_select2 = [48, 101, 10, 70, 49, 53, 52, 9, 71, 8, 41, 4, 73, 17, 45, 35, 43, 25, 59, 79, 29, \n",
    "                           3, 55, 31, 21, 68, 94, 89, 23, 95, 28, 83, 42, 84, 54, 19, 26, 12, 96, 76, 20, 44,\n",
    "                           46, 66, 97, 88, 62, 80, 86, 38, 92, 75, 14, 98, 22, 7, 5, 87, 15, 82, 24, 13, 85, 61,\n",
    "                           32, 30, 69, 58, 99, 39, 78, 67, 1, 91, 47, 65, 6, 50, 93, 33, 81, 40, 100, 18, 11, 60,\n",
    "                           34, 36, 74, 77, 56, 72, 51, 27, 2, 57, 0, 64, 37, 90, 63, 16]"
   ]
  },
  {
   "cell_type": "code",
   "execution_count": 77,
   "metadata": {
    "collapsed": true
   },
   "outputs": [],
   "source": [
    "features_wrapper_select = [48, 9, 32, 49, 10, 29, 101, 16, 41, 53, 14, 44, 47, 33, 99, 35, 57, 40, 5, 4, 84, 45, 31, 34, 13,\n",
    "                           100, 72, 65, 67, 3, 59, 1, 90, 86, 8, 93, 51, 58, 60, 30, 29, 56, 73, 63, 28]"
   ]
  },
  {
   "cell_type": "code",
   "execution_count": null,
   "metadata": {
    "collapsed": true
   },
   "outputs": [],
   "source": [
    "#TTTEEEEEEEEEEEEEEST\n",
    "features_wrapper_select = [48, 9, 32, 16, 101, 41, 53, 14, 44, 47, 33, 99, 35, 57, 40, 5, 4, 84, 45, 31, 34, 13,\n",
    "                           100, 72, 65, 67, 3, 59, 1, 90, 86, 8, 93, 51, 58, 60, 30, 29, 56, 73, 63, 28]\n",
    "\n",
    "features_wrapper_select = [48, 16, 32, 9, 41, 53, 14, 101, 44, 47, 33, 99, 35, 57, 40, 5, 4, 84, 45, 31, 34, 13,\n",
    "                           100, 72, 65, 67, 3, 59, 1, 90, 86, 8, 93, 51, 58, 60, 30, 29, 56, 73, 63, 28]"
   ]
  },
  {
   "cell_type": "code",
   "execution_count": 78,
   "metadata": {
    "collapsed": true
   },
   "outputs": [],
   "source": [
    "features_embedded_select = [48.0, 101.0, 70.0, 71.0, 49.0, 10.0, 9.0, 53.0, 17.0, 8.0, 35.0, 4.0, 16.0, 15.0,\n",
    "                            56.0, 14.0, 41.0, 73.0, 31.0, 32.0, 29.0, 52.0, 38.0, 76.0, 43.0, 47.0, 83.0, 75.0,\n",
    "                            33.0, 5.0, 39.0, 13.0, 55.0, 19.0, 12.0, 50.0, 30.0, 78.0, 3.0, 11.0, 51.0, 42.0, 23.0,\n",
    "                            18.0, 24.0, 72.0, 45.0, 37.0, 100.0, 22.0, 27.0, 21.0, 91.0, 40.0, 54.0, 74.0, 0.0, 20.0,\n",
    "                            87.0, 2.0, 28.0, 6.0, 84.0, 80.0, 46.0, 57.0, 93.0, 25.0, 61.0, 79.0, 86.0, 7.0, 81.0,\n",
    "                            82.0, 85.0, 62.0, 95.0, 96.0, 44.0, 1.0, 90.0, 89.0, 26.0, 99.0, 98.0, 97.0, 94.0, 92.0,\n",
    "                            88.0, 77.0, 69.0, 68.0, 67.0, 66.0, 65.0, 64.0, 63.0, 60.0, 59.0, 58.0, 36.0, 34.0]"
   ]
  },
  {
   "cell_type": "code",
   "execution_count": 79,
   "metadata": {
    "collapsed": false
   },
   "outputs": [
    {
     "name": "stdout",
     "output_type": "stream",
     "text": [
      "[48, 9, 32, 10, 29, 101, 16, 41, 53, 14, 44, 47, 33, 99, 35, 57, 40, 5, 4, 84, 45, 31, 34, 13, 100, 72, 65, 67, 3, 59, 1, 90, 86, 8, 93, 51, 58, 60, 30, 29, 56, 73, 63, 28, 70, 49, 52, 71, 17, 43, 25, 79, 55, 21, 68, 94, 89, 23, 95, 83, 42, 54, 19, 26, 12, 96, 76, 20, 46, 66, 97, 88, 62, 80, 38, 92, 75, 98, 22, 7, 87, 15, 82, 24, 85, 61, 69, 39, 78, 91, 6, 50, 81, 18, 11, 36, 74, 77, 27, 2, 0, 64, 37]\n",
      "103\n"
     ]
    }
   ],
   "source": [
    "for i in range(len(features_wrapper_select2)):\n",
    "    if (features_wrapper_select2[i] not in features_wrapper_select):\n",
    "        features_wrapper_select.append(features_wrapper_select2[i])\n",
    "        \n",
    "print features_wrapper_select\n",
    "print len(features_wrapper_select)"
   ]
  },
  {
   "cell_type": "code",
   "execution_count": 80,
   "metadata": {
    "collapsed": false
   },
   "outputs": [
    {
     "name": "stdout",
     "output_type": "stream",
     "text": [
      "[  1   2   3   4   5  10  15  20  25  30  35  40  45  50  55  60  65  70\n",
      "  75  80  85  90  95 100]\n",
      "0\n",
      "1\n",
      "2\n",
      "3\n",
      "4\n",
      "5\n",
      "6\n"
     ]
    },
    {
     "name": "stderr",
     "output_type": "stream",
     "text": [
      "/home/alex/.pyenv/versions/2.7.10/envs/sphere_mail/lib/python2.7/site-packages/ipykernel/__main__.py:24: DeprecationWarning: non integer (and non boolean) array-likes will not be accepted as indices in the future\n",
      "/home/alex/.pyenv/versions/2.7.10/envs/sphere_mail/lib/python2.7/site-packages/ipykernel/__main__.py:26: DeprecationWarning: non integer (and non boolean) array-likes will not be accepted as indices in the future\n"
     ]
    }
   ],
   "source": [
    "x = []\n",
    "max_cou_features = data.shape[1]\n",
    "now_pos = 1\n",
    "while (now_pos < max_cou_features):\n",
    "    if (now_pos < 5):\n",
    "        x.append(now_pos)\n",
    "        now_pos+=1\n",
    "    else:\n",
    "        x.append(now_pos)\n",
    "        now_pos += 5\n",
    "\n",
    "x = np.asarray(x, np.int)\n",
    "y_embedded = []\n",
    "y_wrapper = []\n",
    "y_cfs = []\n",
    "print x\n",
    "params = {'n_estimators': 120, 'max_depth': 3, 'min_samples_split': 4,\n",
    "                      'learning_rate': 0.03, 'loss': 'ls'}\n",
    "clf = sk.ensemble.GradientBoostingRegressor(**params)\n",
    "    \n",
    "for i in range(len(x) - 17):\n",
    "    print i\n",
    "    #Embedded method\n",
    "    now_x = data[:, features_embedded_select[:x[i]]]\n",
    "    now_y = y_true\n",
    "    test_x = test_data[:, features_embedded_select[:x[i]]]\n",
    "    clf.fit(now_x, now_y)\n",
    "    y_pred = clf.predict(test_x)\n",
    "    y_embedded.append(sk.metrics.mean_squared_error(y_pred, test_y))\n",
    "    #Wrapper method\n",
    "    now_x = data[:, features_wrapper_select[:x[i]]]\n",
    "    now_y = y_true\n",
    "    test_x = test_data[:, features_wrapper_select[:x[i]]]\n",
    "    clf.fit(now_x, now_y)\n",
    "    y_pred = clf.predict(test_x)\n",
    "    y_wrapper.append(sk.metrics.mean_squared_error(y_pred, test_y))\n",
    "    #CFS method\n",
    "    now_x = data[:, features_cfs_select[:x[i]]]\n",
    "    now_y = y_true\n",
    "    test_x = test_data[:, features_cfs_select[:x[i]]]\n",
    "    clf.fit(now_x, now_y)\n",
    "    y_pred = clf.predict(test_x)\n",
    "    y_cfs.append(sk.metrics.mean_squared_error(y_pred, test_y))\n",
    "    "
   ]
  },
  {
   "cell_type": "code",
   "execution_count": 81,
   "metadata": {
    "collapsed": false,
    "scrolled": false
   },
   "outputs": [
    {
     "data": {
      "image/png": "[encoded data removed]",
      "text/plain": [
       "<matplotlib.figure.Figure at 0x7f34de5bfe50>"
      ]
     },
     "metadata": {},
     "output_type": "display_data"
    }
   ],
   "source": [
    "plt.figure(figsize = (10, 10), dpi = 80)\n",
    "embedded_line, = plt.plot(x[:len(x) - 17], y_embedded, label = \"embedded line\")\n",
    "forward_line, = plt.plot(x[:len(x) - 17], y_wrapper, label = \"wrapper line\")\n",
    "cfs_line, = plt.plot(x[:len(x) - 17], y_cfs, label = \"cfs line\")\n",
    "plt.legend(handles = [embedded_line, forward_line, cfs_line])\n",
    "plt.xlabel(\"features count\")\n",
    "plt.ylabel(\"MSE Error\")\n",
    "plt.show()"
   ]
  },
  {
   "cell_type": "markdown",
   "metadata": {},
   "source": [
    "# Print Plot on test_data"
   ]
  },
  {
   "cell_type": "code",
   "execution_count": 14,
   "metadata": {
    "collapsed": false
   },
   "outputs": [
    {
     "name": "stdout",
     "output_type": "stream",
     "text": [
      "[  1   2   3   4   5  10  15  20  25  30  35  40  45  50  55  60  65  70\n",
      "  75  80  85  90  95 100]\n",
      "0\n",
      "1\n",
      "2\n",
      "3\n",
      "4\n",
      "5\n",
      "6\n",
      "7\n",
      "8\n",
      "9\n",
      "10\n",
      "11\n",
      "12\n",
      "13\n",
      "14\n",
      "15\n",
      "16\n",
      "17\n",
      "18\n",
      "19\n",
      "20\n",
      "21\n",
      "22\n",
      "23\n"
     ]
    },
    {
     "name": "stderr",
     "output_type": "stream",
     "text": [
      "/home/alex/.pyenv/versions/2.7.10/envs/sphere_mail/lib/python2.7/site-packages/ipykernel/__main__.py:24: DeprecationWarning: non integer (and non boolean) array-likes will not be accepted as indices in the future\n",
      "/home/alex/.pyenv/versions/2.7.10/envs/sphere_mail/lib/python2.7/site-packages/ipykernel/__main__.py:26: DeprecationWarning: non integer (and non boolean) array-likes will not be accepted as indices in the future\n"
     ]
    }
   ],
   "source": [
    "x = []\n",
    "max_cou_features = data.shape[1]\n",
    "now_pos = 1\n",
    "while (now_pos < max_cou_features):\n",
    "    if (now_pos < 5):\n",
    "        x.append(now_pos)\n",
    "        now_pos+=1\n",
    "    else:\n",
    "        x.append(now_pos)\n",
    "        now_pos += 5\n",
    "\n",
    "x = np.asarray(x, np.int)\n",
    "y_embedded = []\n",
    "y_wrapper = []\n",
    "y_cfs = []\n",
    "print x\n",
    "params = {'n_estimators': 70, 'max_depth': 3, 'min_samples_split': 4,\n",
    "                      'learning_rate': 0.06, 'loss': 'ls'}\n",
    "clf = sk.ensemble.GradientBoostingRegressor(**params)\n",
    "    \n",
    "for i in range(len(x)):\n",
    "    print i\n",
    "    #Embedded method\n",
    "    now_x = data[:, features_embedded_select[:x[i]]]\n",
    "    now_y = y_true\n",
    "    test_x = test_data[:, features_embedded_select[:x[i]]]\n",
    "    clf.fit(now_x, now_y)\n",
    "    y_pred = clf.predict(now_x)\n",
    "    y_embedded.append(sk.metrics.mean_squared_error(y_pred, now_y))\n",
    "    #Wrapper method\n",
    "    now_x = data[:, features_wrapper_select[:x[i]]]\n",
    "    now_y = y_true\n",
    "    test_x = test_data[:, features_wrapper_select[:x[i]]]\n",
    "    clf.fit(now_x, now_y)\n",
    "    y_pred = clf.predict(now_x)\n",
    "    y_wrapper.append(sk.metrics.mean_squared_error(y_pred, now_y))\n",
    "    #CFS method\n",
    "    now_x = data[:, features_cfs_select[:x[i]]]\n",
    "    now_y = y_true\n",
    "    test_x = test_data[:, features_cfs_select[:x[i]]]\n",
    "    clf.fit(now_x, now_y)\n",
    "    y_pred = clf.predict(now_x)\n",
    "    y_cfs.append(sk.metrics.mean_squared_error(y_pred, now_y))\n",
    "    "
   ]
  },
  {
   "cell_type": "code",
   "execution_count": 18,
   "metadata": {
    "collapsed": false
   },
   "outputs": [
    {
     "data": {
      "image/png": "[encoded data removed]",
      "text/plain": [
       "<matplotlib.figure.Figure at 0x7f91e00a8110>"
      ]
     },
     "metadata": {},
     "output_type": "display_data"
    }
   ],
   "source": [
    "plt.figure(figsize = (10, 10), dpi = 80)\n",
    "embedded_line, = plt.plot(x, y_embedded, label = \"embedded line\")\n",
    "forward_line, = plt.plot(x, y_wrapper, label = \"wrapper line\")\n",
    "cfs_line, = plt.plot(x, y_cfs, label = \"cfs line\")\n",
    "plt.legend(handles = [embedded_line, forward_line, cfs_line])\n",
    "plt.ylim(0.03, 0.16)\n",
    "plt.xlabel(\"features count\")\n",
    "plt.ylabel(\"MSE Error\")\n",
    "plt.show()"
   ]
  },
  {
   "cell_type": "code",
   "execution_count": null,
   "metadata": {
    "collapsed": true
   },
   "outputs": [],
   "source": []
  }
 ],
 "metadata": {
  "kernelspec": {
   "display_name": "Python 2",
   "language": "python",
   "name": "python2"
  },
  "language_info": {
   "codemirror_mode": {
    "name": "ipython",
    "version": 2
   },
   "file_extension": ".py",
   "mimetype": "text/x-python",
   "name": "python",
   "nbconvert_exporter": "python",
   "pygments_lexer": "ipython2",
   "version": "2.7.10"
  }
 },
 "nbformat": 4,
 "nbformat_minor": 0
}
