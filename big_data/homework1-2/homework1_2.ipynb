{
 "cells": [
  {
   "cell_type": "markdown",
   "metadata": {},
   "source": [
    "# Реализация алгоритма стохастического градиентного бустинга с\n",
    "# квадратичной функцией потерь. В качестве базового алгоритма\n",
    "# использовать алгоритм CART с RSM. ДЗ1"
   ]
  },
  {
   "cell_type": "code",
   "execution_count": 1,
   "metadata": {
    "collapsed": true
   },
   "outputs": [],
   "source": [
    "import sklearn as sk\n",
    "import numpy as np\n",
    "import pandas as pd\n",
    "import time\n",
    "from sklearn.cross_validation import KFold\n",
    "from sklearn import tree\n",
    "from sklearn import ensemble\n",
    "from sklearn import datasets\n",
    "\n",
    "import matplotlib.pylab as plt\n",
    "%matplotlib inline"
   ]
  },
  {
   "cell_type": "markdown",
   "metadata": {},
   "source": [
    "# CART implemention"
   ]
  },
  {
   "cell_type": "code",
   "execution_count": 2,
   "metadata": {
    "collapsed": false
   },
   "outputs": [],
   "source": [
    "class CART:    \n",
    "    def __init__(self, features_rate, min_samples_leaf, max_depth):\n",
    "        self.features_rate = features_rate\n",
    "        self.tree_map = {}\n",
    "        self.min_samples_leaf = min_samples_leaf\n",
    "        if (max_depth == None):\n",
    "            self.max_depth = 100000\n",
    "        else:\n",
    "            self.max_depth = max_depth\n",
    "\n",
    "    def gen_tree(self, element_numbers, vertex_num, mean, now_depth, mse_value):\n",
    "         \n",
    "        if (now_depth == self.max_depth):  \n",
    "            self.tree_map[str(vertex_num)] = [[None, None], [1], [mean], [None, None]]\n",
    "            return 0\n",
    "        \n",
    "        min_mse = mse_value\n",
    "\n",
    "        pos_num_split = np.nan\n",
    "        value_split = np.nan\n",
    "        \n",
    "        left = []\n",
    "        right = []\n",
    "        \n",
    "        cou_elements = len(element_numbers)\n",
    "        \n",
    "        best_left_square_sum = np.nan\n",
    "        best_left_sum = np.nan\n",
    "        best_right_square_sum = np.nan\n",
    "        best_right_sum = np.nan\n",
    "        \n",
    "        x = self.x[element_numbers]\n",
    "        y = self.y[element_numbers]\n",
    "\n",
    "        for feature_num in range(self.features_cou_analize):\n",
    "\n",
    "            sort_ind = x[:,feature_num].argsort()\n",
    "            new_x = x[:,feature_num][sort_ind]\n",
    "            new_y = y[sort_ind]\n",
    "            \n",
    "            left_cou = 0\n",
    "            right_cou = cou_elements\n",
    "            \n",
    "            del_num = 0\n",
    "            right_square_sum = mse_value + mean * mean * cou_elements * 1.0\n",
    "            right_sum = mean * cou_elements * 1.0\n",
    "            left_square_sum = 0.0\n",
    "            left_sum = 0.0\n",
    "            feature_value_split = np.nan\n",
    "            for i, feature_value in enumerate(new_x):\n",
    "                \n",
    "                if (feature_value_split == feature_value):\n",
    "                    continue\n",
    "                    \n",
    "                if (np.isnan(feature_value_split)):\n",
    "                    feature_value_split = feature_value\n",
    "                else:\n",
    "                    feature_value_split = 0.5 * (feature_value_split + feature_value)\n",
    "                    \n",
    "                while (1):\n",
    "                    if (new_x[del_num] < feature_value_split):\n",
    "                        y_val = new_y[del_num]\n",
    "                        del_num += 1\n",
    "                        left_cou += 1\n",
    "                        right_cou -= 1\n",
    "                        \n",
    "                        left_square_sum += y_val * y_val\n",
    "                        left_sum += y_val\n",
    "                        \n",
    "                        right_square_sum -= y_val * y_val\n",
    "                        right_sum -= y_val\n",
    "                    else:\n",
    "                        break\n",
    "                \n",
    "                if (left_cou < self.min_samples_leaf):\n",
    "                    continue\n",
    "                elif (right_cou < self.min_samples_leaf):\n",
    "                    break\n",
    "                \n",
    "                now_left_mse = left_square_sum - left_sum * left_sum * 1.0/ left_cou\n",
    "                now_right_mse = right_square_sum - right_sum * right_sum * 1.0 / right_cou\n",
    "                \n",
    "                if (now_left_mse + now_right_mse < min_mse):\n",
    "                    min_mse = now_left_mse + now_right_mse\n",
    "                    pos_num_split = feature_num\n",
    "                    value_split = feature_value_split\n",
    "                    \n",
    "                    best_left_square_sum = left_square_sum\n",
    "                    best_left_sum = left_sum\n",
    "                    \n",
    "                    best_right_square_sum = right_square_sum\n",
    "                    best_right_sum = right_sum\n",
    "                    \n",
    "        if (np.isnan(value_split)):\n",
    "            self.tree_map[str(vertex_num)]= [[None, None], [1], [mean], [None, None]]\n",
    "            return 0\n",
    "        \n",
    "        self.tree_map[str(vertex_num)] = [[self.feature_order[pos_num_split], value_split], [0], [mean], [vertex_num*2 + 1, vertex_num*2 + 2]]\n",
    "        \n",
    "        \n",
    "        left_class = []\n",
    "        right_class = []\n",
    "        \n",
    "        for pos in element_numbers:\n",
    "            if (self.x[pos][pos_num_split] < value_split):\n",
    "                left.append(pos)\n",
    "            else:\n",
    "                right.append(pos)\n",
    "\n",
    "        left_mse = best_left_square_sum - (best_left_sum ** 2.0) / len(left)\n",
    "        right_mse = best_right_square_sum - (best_right_sum ** 2.0) / len(right)\n",
    "        \n",
    "        self.feature_contribution[self.feature_order[pos_num_split]] += (mse_value - left_mse - right_mse)\n",
    "        \n",
    "        self.gen_tree(left, vertex_num*2 + 1, best_left_sum * 1.0 / len(left), now_depth + 1, left_mse)\n",
    "        self.gen_tree(right, vertex_num*2 + 2, best_right_sum *1.0/ len(right), now_depth + 1, right_mse)\n",
    "        \n",
    "    def fit(self, x, y):\n",
    "        self.tree_map = {}\n",
    "        \n",
    "        x = np.asarray(x, dtype = np.float)\n",
    "        features_cou = (x.shape)[1]\n",
    "        self.feature_order = np.sort(np.random.choice((x.shape)[1], int((x.shape)[1] * (self.features_rate)), replace=False))\n",
    "        \n",
    "        self.features_cou_analize = int((x.shape)[1] * (self.features_rate))\n",
    "        self.cou_samples = len(x)\n",
    "        \n",
    "        self.feature_contribution = np.zeros(features_cou)\n",
    "        \n",
    "        for i in reversed(range(features_cou)):\n",
    "            if (i not in self.feature_order):\n",
    "                x = np.delete(x, i, 1)\n",
    "\n",
    "        self.x = x\n",
    "        self.y = np.asarray(y, dtype = np.float)\n",
    "        y_pred = np.tile(np.sum(y) * 1.0 / len(y), len(y))\n",
    "        \n",
    "        self.gen_tree(np.arange(self.cou_samples), 0, np.sum(y) * 1.0 / len(y), 0, np.sum((y_pred - self.y) ** 2.0))\n",
    "        \n",
    "        return self.tree_map\n",
    "\n",
    "    def predict(self, data):\n",
    "        y_pred = []\n",
    "        for sample in data:\n",
    "            now_vertex = 0\n",
    "            while (1):\n",
    "                if (self.tree_map[str(now_vertex)][1][0] == 1):\n",
    "                    break\n",
    "                if (sample[self.tree_map[str(now_vertex)][0][0]] >= self.tree_map[str(now_vertex)][0][1]):\n",
    "                    now_vertex = self.tree_map[str(now_vertex)][3][1]\n",
    "                else:\n",
    "                    now_vertex = self.tree_map[str(now_vertex)][3][0]\n",
    "            y_pred.append(self.tree_map[str(now_vertex)][2][0])\n",
    "        return y_pred\n",
    "        \n",
    "        "
   ]
  },
  {
   "cell_type": "markdown",
   "metadata": {},
   "source": [
    "# Load Data Wine"
   ]
  },
  {
   "cell_type": "code",
   "execution_count": 3,
   "metadata": {
    "collapsed": false
   },
   "outputs": [],
   "source": [
    "data = []\n",
    "true_class = []\n",
    "f = open(\"wine.data.txt\", \"r\")\n",
    "f = f.readlines()\n",
    "\n",
    "for line in f:\n",
    "    line = line.strip()\n",
    "    line = line.split(',')\n",
    "    true_class.append(line[0])\n",
    "    del line[0]\n",
    "    data.append(line)\n",
    "shape_x = len(data)\n",
    "shape_y = len(data[0])\n",
    "\n",
    "data = np.asarray(data, dtype=np.float)\n",
    "true_class = np.asarray(true_class, dtype = np.int)\n"
   ]
  },
  {
   "cell_type": "markdown",
   "metadata": {
    "collapsed": true
   },
   "source": [
    "# Cross Validation for CART"
   ]
  },
  {
   "cell_type": "code",
   "execution_count": 4,
   "metadata": {
    "collapsed": false
   },
   "outputs": [
    {
     "name": "stdout",
     "output_type": "stream",
     "text": [
      "My mse 0.0333333333333\n",
      "sklearn mse 0.0333333333333\n",
      "My mse 0.133333333333\n",
      "sklearn mse 0.1\n",
      "My mse 0.0333333333333\n",
      "sklearn mse 0.0333333333333\n",
      "My mse 0.1\n",
      "sklearn mse 0.133333333333\n",
      "My mse 0.0344827586207\n",
      "sklearn mse 0.0344827586207\n",
      "My mse 0.0344827586207\n",
      "sklearn mse 0.0344827586207\n",
      "my_mean_mse 0.0614942528736\n",
      "sk_mean_mse 0.0614942528736\n"
     ]
    }
   ],
   "source": [
    "cou_folds = 6\n",
    "kf = KFold(len(data), n_folds=cou_folds, shuffle=True)\n",
    "my_tree = 0.0\n",
    "sk_tree = 0.0\n",
    "cart = CART(1.0, 1, None)\n",
    "\n",
    "for train_index, test_index in kf:\n",
    "    x_train, x_test = data[train_index], data[test_index]\n",
    "    y_train, y_test = true_class[train_index], true_class[test_index]\n",
    "    cart.fit(x_train, y_train)\n",
    "    y_pred = cart.predict(x_test)\n",
    "    my_tree += sk.metrics.mean_squared_error(y_test, y_pred)\n",
    "    print 'My mse', sk.metrics.mean_squared_error(y_test, y_pred)\n",
    "    \n",
    "    clf = tree.DecisionTreeRegressor(max_depth=None)\n",
    "    clf = clf.fit(x_train, y_train)\n",
    "    y_pred = clf.predict(x_test)\n",
    "    sk_tree += sk.metrics.mean_squared_error(y_test, y_pred)\n",
    "    print 'sklearn mse', sk.metrics.mean_squared_error(y_test, y_pred)\n",
    "\n",
    "print 'my_mean_mse', my_tree / cou_folds\n",
    "print 'sk_mean_mse', sk_tree / cou_folds"
   ]
  },
  {
   "cell_type": "markdown",
   "metadata": {},
   "source": [
    "# STOCHASTIC GRADIENT BOOSTING"
   ]
  },
  {
   "cell_type": "code",
   "execution_count": 5,
   "metadata": {
    "collapsed": false
   },
   "outputs": [],
   "source": [
    "class Stochastic_gradient_boosting:\n",
    "    \n",
    "    def __init__(self, n_estimators, features_rate, cou_samples, min_samples_split, learning_rate, max_depth, loss):\n",
    "        \n",
    "        self.number_elements_in_subsample = cou_samples / n_estimators\n",
    "        self.n_estimators = n_estimators\n",
    "        self.features_rate = features_rate\n",
    "        self.cou_samples = cou_samples\n",
    "        self.loss = loss\n",
    "        self.min_samples_split = min_samples_split\n",
    "        self.shrinkage_value = learning_rate\n",
    "        if (max_depth == None):\n",
    "            self.max_depth = 10000\n",
    "        else:\n",
    "            self.max_depth = max_depth\n",
    "    \n",
    "    def get_predict_for_sample_and_one_tree(self, sample, tree_map):\n",
    "        now_vertex = 0\n",
    "        while (1):\n",
    "            if (tree_map[str(now_vertex)][1][0] == 1):\n",
    "                break\n",
    "            if (sample[tree_map[str(now_vertex)][0][0]] >= tree_map[str(now_vertex)][0][1]):\n",
    "                now_vertex = tree_map[str(now_vertex)][3][1]\n",
    "            else:\n",
    "                now_vertex = tree_map[str(now_vertex)][3][0]\n",
    "        return tree_map[str(now_vertex)][2][0]\n",
    "    \n",
    "    def get_predict_for_sample(self, sample):\n",
    "        answer = 0.0\n",
    "        for i in range(len(self.trees_list)):\n",
    "            answer += self.shrinkage_value * self.get_predict_for_sample_and_one_tree(sample, self.trees_list[i][1])\n",
    "        return answer\n",
    "    \n",
    "    def update_grad_for_l2(self, x, tree_map):\n",
    "        for i, sample in enumerate(x):\n",
    "            self.now_grad[i] -= 2.0 * self.get_predict_for_sample_and_one_tree(sample, tree_map) * self.shrinkage_value\n",
    "            \n",
    "    def update_grad_for_l1(self, x, tree_map):\n",
    "        for i, sample in enumerate(x):\n",
    "            pred_for_sample = self.get_predict_for_sample_and_one_tree(sample, tree_map) * self.shrinkage_value\n",
    "            self.y_balance[i] -= pred_for_sample\n",
    "            if (self.y_balance[i] == 0.0):\n",
    "                self.now_grad[i] = 0.00000001\n",
    "            elif (self.y_balance[i] > 0.0):\n",
    "                self.now_grad[i] = 1.0\n",
    "            elif (self.y_balance[i] < 0.0):\n",
    "                self.now_grad[i] = -1.0\n",
    "        \n",
    "        \n",
    "    def predict_regression(self, x):\n",
    "        y_pred = np.zeros(len(x))\n",
    "        for i, sample in enumerate(x):\n",
    "            y_pred[i] = self.get_predict_for_sample(sample)\n",
    "        return y_pred\n",
    "    \n",
    "    def fit(self, x, y):\n",
    "        self.pos_arr = np.arange(self.cou_samples)\n",
    "        self.now_grad = np.array(y, dtype = np.float)\n",
    "        self.trees_list = []\n",
    "        self.y_balance = np.array(y, dtype = np.float)\n",
    "        \n",
    "        cart = CART(self.features_rate, self.min_samples_split, self.max_depth)\n",
    "        \n",
    "        self.feature_contribution = np.zeros((x.shape)[1])\n",
    "        \n",
    "        for i in range(self.n_estimators):\n",
    "            np.random.shuffle(self.pos_arr)\n",
    "            index = self.pos_arr[:self.cou_samples / 2]\n",
    "            now_x = x[index]\n",
    "            now_y = self.now_grad[index]\n",
    "            \n",
    "            cart.fit(now_x, now_y)\n",
    "            if (i == 0 and self.loss == 'l2'):\n",
    "                self.now_grad *= 2.0\n",
    "            elif (i == 0 and self.loss == 'l1'):\n",
    "                self.now_grad = np.zeros(len(self.now_grad))\n",
    "                \n",
    "            self.feature_contribution += cart.feature_contribution\n",
    "            \n",
    "            self.trees_list.append([self.shrinkage_value, cart.tree_map])\n",
    "            \n",
    "            if (self.loss == 'l2'):\n",
    "                self.update_grad_for_l2(x, cart.tree_map)\n",
    "            elif (self.loss == 'l1'):\n",
    "                self.update_grad_for_l1(x, cart.tree_map)\n",
    "                \n",
    "        return self.trees_list"
   ]
  },
  {
   "cell_type": "markdown",
   "metadata": {},
   "source": [
    "# Testing Stochastic Gradient Boosting on spam Dataset"
   ]
  },
  {
   "cell_type": "markdown",
   "metadata": {},
   "source": [
    "# READ DATA"
   ]
  },
  {
   "cell_type": "code",
   "execution_count": 6,
   "metadata": {
    "collapsed": false
   },
   "outputs": [],
   "source": [
    "f = open(\"spam.train.txt\", \"r\")\n",
    "y_true = []\n",
    "data = []\n",
    "for line in f:\n",
    "    line = line[:len(line) - 1]\n",
    "    arr = line.split(' ')\n",
    "    y_true.append(arr[0])\n",
    "    del arr[0]\n",
    "    data.append(arr)\n",
    "data = np.asarray(data, dtype = np.float)\n",
    "y_true = np.asarray(y_true, dtype = np.float)"
   ]
  },
  {
   "cell_type": "code",
   "execution_count": 7,
   "metadata": {
    "collapsed": false
   },
   "outputs": [],
   "source": [
    "f = open(\"spam.test.txt\", \"r\")\n",
    "test_data = []\n",
    "test_y = []\n",
    "for line in f:\n",
    "    line = line[:len(line) - 1]\n",
    "    arr = line.split(' ')\n",
    "    test_y.append(arr[0])\n",
    "    del arr[0]\n",
    "    test_data.append(arr)\n",
    "    \n",
    "test_data = np.asarray(test_data, dtype = np.float)\n",
    "test_y = np.asarray(test_y, dtype = np.float)"
   ]
  },
  {
   "cell_type": "markdown",
   "metadata": {
    "collapsed": true
   },
   "source": [
    "## Print plots"
   ]
  },
  {
   "cell_type": "code",
   "execution_count": 8,
   "metadata": {
    "collapsed": false
   },
   "outputs": [
    {
     "name": "stdout",
     "output_type": "stream",
     "text": [
      "Mse Error 0.0665084082707\n",
      "358.794888\n"
     ]
    }
   ],
   "source": [
    "t1 = time.clock()\n",
    "cou_samples = len(data)\n",
    "original_params = {'n_estimators': 100, 'features_rate': 0.7, 'cou_samples': cou_samples, 'min_samples_split': 4,\n",
    "                'learning_rate' : 0.03, 'max_depth' : 3, 'loss' : \"l2\"}\n",
    "\n",
    "boosting_l2 = Stochastic_gradient_boosting(**original_params)\n",
    "boosting_l2.fit(data, y_true)\n",
    "y_pred = boosting_l2.predict_regression(test_data)\n",
    "print 'Mse Error', sk.metrics.mean_squared_error(test_y, y_pred)\n",
    "print time.clock() - t1"
   ]
  },
  {
   "cell_type": "code",
   "execution_count": 9,
   "metadata": {
    "collapsed": false
   },
   "outputs": [
    {
     "name": "stdout",
     "output_type": "stream",
     "text": [
      "63.48111\n"
     ]
    }
   ],
   "source": [
    "t1 = time.clock()\n",
    "estimators_list = np.linspace(30, 100, 8)\n",
    "mse_sklearn = []\n",
    "for cou_estimators in estimators_list:\n",
    "    params = {'n_estimators': int(cou_estimators), 'max_depth': 3, 'min_samples_split': 4,\n",
    "          'learning_rate': 0.03, 'loss': 'ls'}\n",
    "    \n",
    "    clf = ensemble.GradientBoostingRegressor(**params)\n",
    "    clf.fit(data, y_true)\n",
    "    y_pred = clf.predict(test_data)\n",
    "    mse_sklearn.append(sk.metrics.mean_squared_error(test_y, y_pred))\n",
    "print time.clock() - t1"
   ]
  },
  {
   "cell_type": "code",
   "execution_count": 16,
   "metadata": {
    "collapsed": false
   },
   "outputs": [
    {
     "name": "stdout",
     "output_type": "stream",
     "text": [
      "528.161966\n"
     ]
    }
   ],
   "source": [
    "t1 = time.clock()\n",
    "cou_samples = len(data)\n",
    "original_params = {'n_estimators': 100, 'features_rate': 0.7, 'cou_samples': cou_samples, 'min_samples_split': 4,\n",
    "                'learning_rate' : 0.03, 'max_depth' : 3, 'loss' : \"l1\"}\n",
    "\n",
    "boosting_l1 = Stochastic_gradient_boosting(**original_params)\n",
    "boosting_l1.fit(data, y_true)\n",
    "y_pred = boosting_l1.predict_regression(test_data)\n",
    "print time.clock() - t1"
   ]
  },
  {
   "cell_type": "code",
   "execution_count": 17,
   "metadata": {
    "collapsed": false
   },
   "outputs": [
    {
     "data": {
      "image/png": "[encoded data removed]",
      "text/plain": [
       "<matplotlib.figure.Figure at 0x7fa2d14049d0>"
      ]
     },
     "metadata": {},
     "output_type": "display_data"
    }
   ],
   "source": [
    "y = test_y.copy()\n",
    "y1 = test_y.copy()\n",
    "my_mse_for_l2 = []\n",
    "my_mse_for_l1 = []\n",
    "cou_samples = len(test_y)\n",
    "y = np.array(y, dtype = np.float)\n",
    "y1 = np.array(y1, dtype = np.float)\n",
    "for i in range(0, 100):\n",
    "    for j, sample in enumerate(test_data):\n",
    "        y[j] -= boosting_l2.get_predict_for_sample_and_one_tree(sample, boosting_l2.trees_list[i][1]) * boosting_l2.shrinkage_value\n",
    "        y1[j] -= boosting_l1.get_predict_for_sample_and_one_tree(sample, boosting_l1.trees_list[i][1]) * boosting_l1.shrinkage_value\n",
    "    if (i + 1 in estimators_list):\n",
    "        my_mse_for_l2.append(np.sum(y ** 2.0) * 1.0 / cou_samples)\n",
    "        my_mse_for_l1.append(np.sum(y1 ** 2.0) * 1.0 / cou_samples)\n",
    "    \n",
    "    \n",
    "\n",
    "        \n",
    "mse_sklearn = np.asarray(mse_sklearn, dtype = np.float)\n",
    "estimators_list = np.asarray(estimators_list, dtype = np.float)\n",
    "plt.figure(figsize = (8, 6), dpi = 80)\n",
    "plt.xlabel('cou_estimators')\n",
    "plt.ylabel('sklearn regression boosting error')\n",
    "plt.plot(estimators_list, mse_sklearn, 'b')\n",
    "plt.plot(estimators_list, mse_sklearn * 1.03, c = 'r')\n",
    "plt.plot(estimators_list, my_mse_for_l2, c = 'g')\n",
    "plt.plot(estimators_list, my_mse_for_l1, c = 'y')\n",
    "plt.show()"
   ]
  },
  {
   "cell_type": "markdown",
   "metadata": {},
   "source": [
    "# Реализовать embedded метод отбора признаков для\n",
    "# своего варианта из дз 1. Провести сравнительный анализ своего\n",
    "# метода с каждым из подходов, описанных на лекции (т.е. нужно\n",
    "# минимум реализовать один wrapper и один filter метод). Построить\n",
    "# графики. ДЗ2"
   ]
  },
  {
   "cell_type": "markdown",
   "metadata": {
    "collapsed": true
   },
   "source": [
    "# Implemention embedded method"
   ]
  },
  {
   "cell_type": "code",
   "execution_count": 8,
   "metadata": {
    "collapsed": false
   },
   "outputs": [],
   "source": [
    "def emdedded_method(params, data, y_true, cou_features):\n",
    "    t1 = time.clock()\n",
    "    boosting = Stochastic_gradient_boosting(**params)\n",
    "    boosting.fit(data, y_true)\n",
    "    a = boosting.feature_contribution\n",
    "    f_contrib = []\n",
    "    for feature_num, feature_contribution in enumerate(a):\n",
    "        f_contrib.append([feature_contribution, feature_num])\n",
    "        \n",
    "    f_contrib = sorted(f_contrib, reverse= True)\n",
    "    f_contrib = np.asarray(f_contrib, dtype = np.float)\n",
    "    \n",
    "    result_positions = []\n",
    "    for i in range(cou_features):\n",
    "        result_positions.append(f_contrib[i][1])\n",
    "    \n",
    "    return result_positions, time.clock() - t1\n"
   ]
  },
  {
   "cell_type": "code",
   "execution_count": 9,
   "metadata": {
    "collapsed": false
   },
   "outputs": [],
   "source": [
    "params = {'n_estimators': 60, 'features_rate': 1.0, 'cou_samples': len(data), 'min_samples_split': 40,\n",
    "                    'learning_rate' : 0.06, 'max_depth' : 5, 'loss' : 'l2'}\n",
    "cou_features = (data.shape)[1] - 15\n",
    "features_embedded, time_embedded = emdedded_method(params, data, y_true, cou_features)"
   ]
  },
  {
   "cell_type": "code",
   "execution_count": 10,
   "metadata": {
    "collapsed": false
   },
   "outputs": [
    {
     "name": "stdout",
     "output_type": "stream",
     "text": [
      "[48.0, 101.0, 70.0, 49.0, 10.0, 17.0, 8.0, 53.0, 35.0, 71.0, 9.0, 16.0, 4.0, 31.0, 73.0, 41.0, 15.0, 52.0, 29.0, 38.0, 56.0, 43.0, 32.0, 47.0, 14.0, 75.0, 76.0, 19.0, 37.0, 83.0, 50.0, 55.0, 27.0, 33.0, 12.0, 100.0, 3.0, 42.0, 11.0, 39.0, 5.0, 21.0, 40.0, 13.0, 74.0, 26.0, 18.0, 22.0, 54.0, 24.0, 51.0, 91.0, 87.0, 80.0, 30.0, 72.0, 6.0, 23.0, 96.0, 20.0, 7.0, 62.0, 81.0, 28.0, 95.0, 93.0, 78.0, 46.0, 79.0, 82.0, 84.0, 86.0, 0.0, 1.0, 44.0, 90.0, 25.0, 88.0, 61.0, 45.0, 99.0, 98.0, 97.0, 94.0, 92.0, 89.0, 85.0] 452.959199\n"
     ]
    }
   ],
   "source": [
    "print features_embedded, time_embedded"
   ]
  },
  {
   "cell_type": "markdown",
   "metadata": {
    "collapsed": true
   },
   "source": [
    "# Implemention Wrapper method"
   ]
  },
  {
   "cell_type": "code",
   "execution_count": 11,
   "metadata": {
    "collapsed": false
   },
   "outputs": [],
   "source": [
    "def forward_selection(data, y_true, hopelessness_value, loss):\n",
    "    start_time = time.clock()\n",
    "    \n",
    "    data = np.asarray(data, np.float)\n",
    "    y_true = np.asarray(y_true, np.float)\n",
    "    \n",
    "    features_set = []\n",
    "    features_cou = (data.shape)[1]\n",
    "    Q = 100000.0\n",
    "    for i in range(features_cou):\n",
    "        best_feature = -1\n",
    "        for j in range(features_cou):\n",
    "            now_x = data.copy()\n",
    "            if (j not in features_set):\n",
    "                now_set = list(features_set)\n",
    "                now_set.append(j)\n",
    "                for del_pos in reversed(range(features_cou)):\n",
    "                    if (del_pos not in now_set):\n",
    "                        now_x = np.delete(now_x, del_pos, axis = 1)\n",
    "            else:\n",
    "                continue\n",
    "                \n",
    "\n",
    "            cou_folds = 5\n",
    "            kf = KFold(len(data), n_folds=cou_folds, shuffle=True)\n",
    "            mse_value_for_now_feature = 0.0\n",
    "            for train_index, test_index in kf:\n",
    "                x_train, x_test = now_x[train_index], now_x[test_index]\n",
    "                y_train, y_test = y_true[train_index], y_true[test_index]\n",
    "                \n",
    "                params = {'n_estimators': 50, 'max_depth': 4, 'min_samples_split': 4,\n",
    "                      'learning_rate': 0.05, 'loss': 'ls'}\n",
    "                \n",
    "                clf = ensemble.GradientBoostingRegressor(**params)\n",
    "                clf.fit(x_train, y_train)\n",
    "                y_pred = clf.predict(x_test)\n",
    "                mse_value_for_now_feature += sk.metrics.mean_squared_error(y_test, y_pred)\n",
    "\n",
    "            \n",
    "            mse_value_for_now_feature /= cou_folds\n",
    "            if (mse_value_for_now_feature < Q * hopelessness_value):\n",
    "                Q = mse_value_for_now_feature\n",
    "                best_feature = j\n",
    "        if (best_feature == -1):\n",
    "            break\n",
    "        features_set.append(best_feature)\n",
    "    return features_set, time.clock() - start_time"
   ]
  },
  {
   "cell_type": "code",
   "execution_count": 12,
   "metadata": {
    "collapsed": false
   },
   "outputs": [],
   "source": [
    "features_forward_selection, time_forward_selection = forward_selection(data, y_true, 0.9, \"l2\")"
   ]
  },
  {
   "cell_type": "code",
   "execution_count": 13,
   "metadata": {
    "collapsed": false
   },
   "outputs": [
    {
     "name": "stdout",
     "output_type": "stream",
     "text": [
      "[48, 4, 8, 9, 10, 42, 70] 1352.676861\n"
     ]
    }
   ],
   "source": [
    "print features_forward_selection, time_forward_selection"
   ]
  },
  {
   "cell_type": "markdown",
   "metadata": {},
   "source": [
    "# Corelation Feature Selection implement"
   ]
  },
  {
   "cell_type": "code",
   "execution_count": 14,
   "metadata": {
    "collapsed": false
   },
   "outputs": [],
   "source": [
    "def corelation_feature_selection(x, y):\n",
    "    start_time = time.clock()\n",
    "    features_cou = (x.shape)[1]\n",
    "    samples_cou = len(y)\n",
    "    corelation_target = np.zeros(features_cou, dtype = np.float)\n",
    "    pair_feature_corelation = np.zeros(shape = (features_cou, features_cou))\n",
    "    y_mean = np.tile(np.sum(y) / samples_cou, samples_cou)\n",
    "    \n",
    "    for pos in range(features_cou):    \n",
    "        now_feature = x[:,pos]\n",
    "        now_feature_mean = np.tile(np.sum(now_feature) / samples_cou, samples_cou)\n",
    "        corelation_target[pos] = np.sum((y - y_mean) * (now_feature - now_feature_mean)) / np.sqrt(np.sum((y - y_mean) ** 2) * np.sum((now_feature - now_feature_mean) ** 2))\n",
    "    \n",
    "    for first_pos in range(features_cou):\n",
    "        first_feature = x[:, first_pos]\n",
    "        first_feature_mean = np.tile(np.sum(first_feature) / samples_cou, samples_cou)\n",
    "        for second_pos in range(features_cou):\n",
    "            second_feature = x[:, second_pos]\n",
    "            second_feature_mean = np.tile(np.sum(second_feature) / samples_cou, samples_cou)\n",
    "            pair_feature_corelation[first_pos][second_pos] = np.sum((first_feature - first_feature_mean) * (second_feature - second_feature_mean))/ np.sqrt(np.sum((first_feature - first_feature_mean) ** 2) * np.sum((second_feature - second_feature_mean) ** 2))\n",
    "            \n",
    "    features_set = []\n",
    "    \n",
    "    best_nominator = 0.0\n",
    "    best_denominator = 0.0\n",
    "    now_nominator = 0.0\n",
    "    now_denominator = 0.0\n",
    "    best_value = 0.0\n",
    "    \n",
    "    for i in range(features_cou):\n",
    "        best_pos = -1\n",
    "        now_nominator = 0.0\n",
    "        now_denominator = 0.0\n",
    "        \n",
    "        for pos in range(features_cou):\n",
    "            if (pos not in features_set):\n",
    "                now_nominator = best_nominator + corelation_target[pos]\n",
    "                now_denominator = np.sqrt(best_denominator ** 2 + 1 + 2.0 * np.sum(pair_feature_corelation[pos][features_set]))\n",
    "            else:\n",
    "                continue\n",
    "                \n",
    "            if ((now_nominator / now_denominator) > best_value):\n",
    "                best_value = now_nominator / now_denominator\n",
    "                best_pos = pos\n",
    "        if (best_pos == -1):\n",
    "            break\n",
    "        best_nominator = best_nominator + corelation_target[best_pos]\n",
    "        best_denominator = np.sqrt(best_denominator ** 2 + 1 + 2.0 * np.sum(pair_feature_corelation[best_pos][features_set]))\n",
    "        features_set.append(best_pos)\n",
    "        \n",
    "    return features_set, time.clock() - start_time"
   ]
  },
  {
   "cell_type": "code",
   "execution_count": 15,
   "metadata": {
    "collapsed": false
   },
   "outputs": [],
   "source": [
    "feature_corelation_selection, time_corelation_selection = corelation_feature_selection(data, y_true)"
   ]
  },
  {
   "cell_type": "markdown",
   "metadata": {
    "collapsed": true
   },
   "source": [
    "# Print Plots "
   ]
  },
  {
   "cell_type": "markdown",
   "metadata": {},
   "source": [
    "## Find best count features for embedded method, best score - 31 features"
   ]
  },
  {
   "cell_type": "code",
   "execution_count": 16,
   "metadata": {
    "collapsed": false,
    "scrolled": true
   },
   "outputs": [
    {
     "name": "stdout",
     "output_type": "stream",
     "text": [
      "690.348243\n"
     ]
    },
    {
     "name": "stderr",
     "output_type": "stream",
     "text": [
      "/home/alex/.pyenv/versions/2.7.10/envs/sphere_mail/lib/python2.7/site-packages/ipykernel/__main__.py:8: DeprecationWarning: non integer (and non boolean) array-likes will not be accepted as indices in the future\n",
      "/home/alex/.pyenv/versions/2.7.10/envs/sphere_mail/lib/python2.7/site-packages/ipykernel/__main__.py:10: DeprecationWarning: non integer (and non boolean) array-likes will not be accepted as indices in the future\n"
     ]
    },
    {
     "data": {
      "image/png": "[encoded data removed]",
      "text/plain": [
       "<matplotlib.figure.Figure at 0x7fc822d92310>"
      ]
     },
     "metadata": {},
     "output_type": "display_data"
    }
   ],
   "source": [
    "start_time = time.clock()\n",
    "params = {'n_estimators': 120, 'max_depth': 4, 'min_samples_split': 4,\n",
    "                      'learning_rate': 0.05, 'loss': 'ls'}\n",
    "Y = []\n",
    "X = np.linspace(1, cou_features, cou_features)\n",
    "for i in range(cou_features):\n",
    "    #print i\n",
    "    now_x = data[:,features_embedded[0:i + 1]]\n",
    "    now_y = y_true\n",
    "    test_x = test_data[:,features_embedded[0:i+1]]\n",
    "    clf = sk.ensemble.GradientBoostingRegressor(**params)\n",
    "    clf.fit(now_x, now_y)\n",
    "    y_pred = clf.predict(test_x)\n",
    "    #boosting = Stochastic_gradient_boosting(**params)\n",
    "    #boosting.fit(now_x, now_y)\n",
    "    #y_pred = boosting.predict_regression(test_data)\n",
    "    Y.append(sk.metrics.mean_squared_error(y_pred, test_y))\n",
    "\n",
    "print time.clock() - start_time\n",
    "plt.figure(figsize = (12, 12), dpi = 80)\n",
    "plt.plot(X, Y, c = 'b')\n",
    "plt.xlabel(\"Features count\")\n",
    "plt.ylabel(\"MSE value\")\n",
    "plt.show()"
   ]
  },
  {
   "cell_type": "code",
   "execution_count": 19,
   "metadata": {
    "collapsed": false
   },
   "outputs": [
    {
     "name": "stdout",
     "output_type": "stream",
     "text": [
      "[48.0, 101.0, 70.0, 49.0, 10.0, 17.0, 8.0, 53.0, 35.0, 71.0, 9.0, 16.0, 4.0, 31.0, 73.0, 41.0, 15.0, 52.0, 29.0, 38.0, 56.0, 43.0, 32.0, 47.0, 14.0, 75.0, 76.0, 19.0, 37.0, 83.0, 50.0, 55.0]\n"
     ]
    }
   ],
   "source": [
    "features_embedded = features_embedded[0:32]\n",
    "print features_embedded"
   ]
  },
  {
   "cell_type": "markdown",
   "metadata": {},
   "source": [
    "## Get plot for embedde method"
   ]
  },
  {
   "cell_type": "code",
   "execution_count": 21,
   "metadata": {
    "collapsed": false
   },
   "outputs": [
    {
     "name": "stdout",
     "output_type": "stream",
     "text": [
      "(10056, 102)\n",
      "(10056, 87)\n"
     ]
    }
   ],
   "source": [
    "print test_data.shape\n",
    "print test_x.shape"
   ]
  },
  {
   "cell_type": "code",
   "execution_count": 22,
   "metadata": {
    "collapsed": false
   },
   "outputs": [
    {
     "name": "stdout",
     "output_type": "stream",
     "text": [
      "648.939671\n"
     ]
    },
    {
     "name": "stderr",
     "output_type": "stream",
     "text": [
      "/home/alex/.pyenv/versions/2.7.10/envs/sphere_mail/lib/python2.7/site-packages/ipykernel/__main__.py:6: DeprecationWarning: non integer (and non boolean) array-likes will not be accepted as indices in the future\n",
      "/home/alex/.pyenv/versions/2.7.10/envs/sphere_mail/lib/python2.7/site-packages/ipykernel/__main__.py:8: DeprecationWarning: non integer (and non boolean) array-likes will not be accepted as indices in the future\n"
     ]
    }
   ],
   "source": [
    "t1 = time.clock()\n",
    "cou_samples = len(data)\n",
    "original_params = {'n_estimators': 300, 'features_rate': 1.0, 'cou_samples': cou_samples, 'min_samples_split': 4,\n",
    "                'learning_rate' : 0.03, 'max_depth' : 3, 'loss' : \"l2\"}\n",
    "\n",
    "now_x = data[:,features_embedded]\n",
    "now_y = y_true\n",
    "test_x = test_data[:,features_embedded]\n",
    "\n",
    "boosting_l2 = Stochastic_gradient_boosting(**original_params)\n",
    "boosting_l2.fit(now_x, now_y)\n",
    "y_pred = boosting_l2.predict_regression(test_x)\n",
    "#print 'Mse Error', sk.metrics.mean_squared_error(test_y, y_pred)\n",
    "print time.clock() - t1"
   ]
  },
  {
   "cell_type": "code",
   "execution_count": 23,
   "metadata": {
    "collapsed": true
   },
   "outputs": [],
   "source": [
    "estimators_list = np.linspace(1, 300, 300)"
   ]
  },
  {
   "cell_type": "code",
   "execution_count": 24,
   "metadata": {
    "collapsed": true
   },
   "outputs": [],
   "source": [
    "y = test_y.copy()\n",
    "mse_for_embedded_method = []\n",
    "cou_samples = len(test_y)\n",
    "y = np.array(y, dtype = np.float)\n",
    "\n",
    "for i in range(0, 300):\n",
    "    for j, sample in enumerate(test_x):\n",
    "        y[j] -= boosting_l2.get_predict_for_sample_and_one_tree(sample, boosting_l2.trees_list[i][1]) * boosting_l2.shrinkage_value\n",
    "    if (i + 1 in estimators_list):\n",
    "        mse_for_embedded_method.append(np.sum(y ** 2.0) * 1.0 / cou_samples)\n"
   ]
  },
  {
   "cell_type": "code",
   "execution_count": null,
   "metadata": {
    "collapsed": true
   },
   "outputs": [],
   "source": []
  },
  {
   "cell_type": "markdown",
   "metadata": {
    "collapsed": true
   },
   "source": [
    "## Get plot for Wrapper method"
   ]
  },
  {
   "cell_type": "code",
   "execution_count": 25,
   "metadata": {
    "collapsed": false
   },
   "outputs": [
    {
     "name": "stdout",
     "output_type": "stream",
     "text": [
      "189.774108\n"
     ]
    }
   ],
   "source": [
    "t1 = time.clock()\n",
    "cou_samples = len(data)\n",
    "original_params = {'n_estimators': 300, 'features_rate': 1.0, 'cou_samples': cou_samples, 'min_samples_split': 4,\n",
    "                'learning_rate' : 0.03, 'max_depth' : 3, 'loss' : \"l2\"}\n",
    "\n",
    "now_x = data[:,features_forward_selection]\n",
    "now_y = y_true\n",
    "test_x = test_data[:,features_forward_selection]\n",
    "\n",
    "boosting_for_forward_selection = Stochastic_gradient_boosting(**original_params)\n",
    "boosting_for_forward_selection.fit(now_x, now_y)\n",
    "y_pred = boosting_for_forward_selection.predict_regression(test_x)\n",
    "#print 'Mse Error', sk.metrics.mean_squared_error(test_y, y_pred)\n",
    "print time.clock() - t1"
   ]
  },
  {
   "cell_type": "code",
   "execution_count": 26,
   "metadata": {
    "collapsed": true
   },
   "outputs": [],
   "source": [
    "y = test_y.copy()\n",
    "mse_for_forward_selection = []\n",
    "cou_samples = len(test_y)\n",
    "y = np.array(y, dtype = np.float)\n",
    "\n",
    "for i in range(0, 300):\n",
    "    for j, sample in enumerate(test_x):\n",
    "        y[j] -= boosting_for_forward_selection.get_predict_for_sample_and_one_tree(sample, boosting_for_forward_selection.trees_list[i][1]) * boosting_for_forward_selection.shrinkage_value\n",
    "    if (i + 1 in estimators_list):\n",
    "        mse_for_forward_selection.append(np.sum(y ** 2.0) * 1.0 / cou_samples)"
   ]
  },
  {
   "cell_type": "markdown",
   "metadata": {},
   "source": [
    "## Get plot for Corelation Feature Selection method "
   ]
  },
  {
   "cell_type": "code",
   "execution_count": 27,
   "metadata": {
    "collapsed": false
   },
   "outputs": [
    {
     "name": "stdout",
     "output_type": "stream",
     "text": [
      "166.025781\n"
     ]
    }
   ],
   "source": [
    "t1 = time.clock()\n",
    "\n",
    "\n",
    "now_x = data[:,feature_corelation_selection]\n",
    "now_y = y_true\n",
    "test_x = test_data[:,feature_corelation_selection]\n",
    "\n",
    "boosting_for_CFS = Stochastic_gradient_boosting(**original_params)\n",
    "boosting_for_CFS.fit(now_x, now_y)\n",
    "y_pred = boosting_for_CFS.predict_regression(test_x)\n",
    "print time.clock() - t1"
   ]
  },
  {
   "cell_type": "code",
   "execution_count": 28,
   "metadata": {
    "collapsed": true
   },
   "outputs": [],
   "source": [
    "y = test_y.copy()\n",
    "mse_for_CFS = []\n",
    "cou_samples = len(test_y)\n",
    "y = np.array(y, dtype = np.float)\n",
    "\n",
    "for i in range(0, 300):\n",
    "    for j, sample in enumerate(test_x):\n",
    "        y[j] -= boosting_for_CFS.get_predict_for_sample_and_one_tree(sample, boosting_for_CFS.trees_list[i][1]) * boosting_for_CFS.shrinkage_value\n",
    "    if (i + 1 in estimators_list):\n",
    "        mse_for_CFS.append(np.sum(y ** 2.0) * 1.0 / cou_samples)"
   ]
  },
  {
   "cell_type": "markdown",
   "metadata": {},
   "source": [
    "## Print plots"
   ]
  },
  {
   "cell_type": "code",
   "execution_count": 29,
   "metadata": {
    "collapsed": false
   },
   "outputs": [
    {
     "data": {
      "image/png": "[encoded data removed]",
      "text/plain": [
       "<matplotlib.figure.Figure at 0x7fc822b71050>"
      ]
     },
     "metadata": {},
     "output_type": "display_data"
    }
   ],
   "source": [
    "plt.figure(figsize = (8, 6), dpi = 80)\n",
    "plt.plot(estimators_listtimators_list, mse_for_embedded_method, c = 'b')\n",
    "plt.plot(estimators_list, mse_for_forward_selection, c = 'g')\n",
    "plt.plot(estimators_list, mse_for_CFS, c = 'r')\n",
    "plt.xlabel(\"estimators_count\")\n",
    "plt.ylabel(\"MSE error\")\n",
    "plt.show()"
   ]
  },
  {
   "cell_type": "code",
   "execution_count": null,
   "metadata": {
    "collapsed": true
   },
   "outputs": [],
   "source": []
  }
 ],
 "metadata": {
  "kernelspec": {
   "display_name": "Python 2",
   "language": "python",
   "name": "python2"
  },
  "language_info": {
   "codemirror_mode": {
    "name": "ipython",
    "version": 2
   },
   "file_extension": ".py",
   "mimetype": "text/x-python",
   "name": "python",
   "nbconvert_exporter": "python",
   "pygments_lexer": "ipython2",
   "version": "2.7.10"
  }
 },
 "nbformat": 4,
 "nbformat_minor": 0
}
